{
 "cells": [
  {
   "cell_type": "markdown",
   "metadata": {},
   "source": [
    "## Тимонин Сергей\n",
    "### Вариант 2\n",
    "_______________________"
   ]
  },
  {
   "cell_type": "markdown",
   "metadata": {},
   "source": [
    "# Задание 1. A/B–тестирование\n",
    "### 1.1 Условие\n",
    "\n",
    "Одной из основных задач аналитика в нашей команде является корректное проведение экспериментов. Для этого мы применяем метод A/B–тестирования. В ходе тестирования одной гипотезы целевой группе была предложена новая механика оплаты услуг на сайте, у контрольной группы оставалась базовая механика. В качестве задания Вам необходимо проанализировать итоги эксперимента и сделать вывод, стоит ли запускать новую механику оплаты на всех пользователей.\n",
    "\n",
    "### 1.2 Входные данные\n",
    "\n",
    "В качестве входных данных Вы имеете 4 csv-файла:\n",
    "\n",
    "- groups.csv - файл с информацией о принадлежности пользователя к контрольной или экспериментальной группе (А – контроль, B – целевая группа) \n",
    "- groups_add.csv - дополнительный файл с пользователями, который вам прислали спустя 2 дня после передачи данных\n",
    "- active_studs.csv - файл с информацией о пользователях, которые зашли на платформу в дни проведения эксперимента. \n",
    "- checks.csv - файл с информацией об оплатах пользователей в дни проведения эксперимента. \n",
    "\n",
    "### 1.3 Вопросы\n",
    "\n",
    "Предлагаем Вам ответить на следующие вопросы:\n",
    "\n",
    "- На какие метрики Вы смотрите в ходе анализа и почему?\n",
    "- Имеются ли различия в показателях и с чем они могут быть связаны?\n",
    "- Являются ли эти различия статистически значимыми?\n",
    "- Стоит ли запускать новую механику на всех пользователей?\n",
    "- Данный список вопросов не является обязательным, и Вы можете при своём ответе опираться на собственный план."
   ]
  },
  {
   "cell_type": "code",
   "execution_count": 1,
   "metadata": {},
   "outputs": [],
   "source": [
    "import pandas as pd \n",
    "import requests \n",
    "from urllib.parse import urlencode \n",
    "from IPython.display import display_html\n",
    "from itertools import chain,cycle\n",
    "import matplotlib.pyplot as plt\n",
    "import seaborn as sns\n",
    "from scipy.stats import mannwhitneyu\n",
    "import numpy as np"
   ]
  },
  {
   "cell_type": "code",
   "execution_count": 2,
   "metadata": {},
   "outputs": [],
   "source": [
    "# функция для автоматического обновления данных с Яндекс Диска\n",
    "def ya_url(public_key):\n",
    "    base_url = 'https://cloud-api.yandex.net/v1/disk/public/resources/download?' \n",
    "    final_url = base_url + urlencode(dict(public_key=public_key))\n",
    "    response = requests.get(final_url) \n",
    "    download_url = response.json()['href'] \n",
    "    return download_url\n",
    "\n",
    "# подгружаем все файлы\n",
    "groups_add = pd.read_csv(ya_url('https://disk.yandex.ru/d/5Kxrz02m3IBUwQ'), sep=',') \n",
    "groups     = pd.read_csv(ya_url('https://disk.yandex.ru/d/UhyYx41rTt3clQ'), sep=';') \n",
    "active     = pd.read_csv(ya_url('https://disk.yandex.ru/d/Tbs44Bm6H_FwFQ'), sep=';') \n",
    "checks     = pd.read_csv(ya_url('https://disk.yandex.ru/d/pH1q-VqcxXjsVA'), sep=';') "
   ]
  },
  {
   "cell_type": "markdown",
   "metadata": {},
   "source": [
    "### Шаг 1. Подготовка и просмотр файлов\n",
    "Перед тем как приступить к самому А/В тесту, посмотрим, что за данные были предоставлены, проверим их объем, дубликаты, пустые значения."
   ]
  },
  {
   "cell_type": "code",
   "execution_count": 76,
   "metadata": {},
   "outputs": [],
   "source": [
    "    # Из-за ошибки KeyError: 'href' (исчерпан лимит скачиваний файла) подгружу данные вручную, \n",
    "    # можно было оставить, думаю этот впорос не принципиально важен \n",
    "#groups_add = pd.read_csv('Проект_2_group_add.csv', sep=',') \n",
    "#groups = pd.read_csv('Проект_2_groups.csv', sep=';') \n",
    "#active = pd.read_csv('Проект_2_active_studs.csv', sep=';') \n",
    "#checks = pd.read_csv('Проект_2_checks.csv', sep=';') "
   ]
  },
  {
   "cell_type": "code",
   "execution_count": 7,
   "metadata": {},
   "outputs": [],
   "source": [
    "# посмотрим на все дата фреймы, что вообще за данные нас ожидают\n",
    "# чтобы не раздувать место для показа всех 4-ех df, применю функцию, которая разместить их на 1 строке\n",
    "def display_side_by_side(*args,titles=cycle([''])):\n",
    "    html_str=''\n",
    "    for df,title in zip(args, chain(titles,cycle(['</br>'])) ):\n",
    "        html_str+='<th style=\"text-align:center\"><td style=\"vertical-align:top\">'\n",
    "        html_str+=f'<h2 style=\"text-align: center;\">{title}</h2>'\n",
    "        html_str+=df.to_html().replace('table','table style=\"display:inline\"')\n",
    "        html_str+='</td></th>'\n",
    "    display_html(html_str,raw=True)"
   ]
  },
  {
   "cell_type": "code",
   "execution_count": 8,
   "metadata": {},
   "outputs": [
    {
     "data": {
      "text/html": [
       "<th style=\"text-align:center\"><td style=\"vertical-align:top\"><h2 style=\"text-align: center;\">groups_add</h2><table style=\"display:inline\" border=\"1\" class=\"dataframe\">\n",
       "  <thead>\n",
       "    <tr style=\"text-align: right;\">\n",
       "      <th></th>\n",
       "      <th>id</th>\n",
       "      <th>grp</th>\n",
       "    </tr>\n",
       "  </thead>\n",
       "  <tbody>\n",
       "    <tr>\n",
       "      <th>0</th>\n",
       "      <td>5694584</td>\n",
       "      <td>B</td>\n",
       "    </tr>\n",
       "    <tr>\n",
       "      <th>1</th>\n",
       "      <td>5694830</td>\n",
       "      <td>B</td>\n",
       "    </tr>\n",
       "    <tr>\n",
       "      <th>2</th>\n",
       "      <td>5695057</td>\n",
       "      <td>B</td>\n",
       "    </tr>\n",
       "    <tr>\n",
       "      <th>3</th>\n",
       "      <td>5698872</td>\n",
       "      <td>B</td>\n",
       "    </tr>\n",
       "    <tr>\n",
       "      <th>4</th>\n",
       "      <td>5699067</td>\n",
       "      <td>B</td>\n",
       "    </tr>\n",
       "  </tbody>\n",
       "</table style=\"display:inline\"></td></th><th style=\"text-align:center\"><td style=\"vertical-align:top\"><h2 style=\"text-align: center;\">groups</h2><table style=\"display:inline\" border=\"1\" class=\"dataframe\">\n",
       "  <thead>\n",
       "    <tr style=\"text-align: right;\">\n",
       "      <th></th>\n",
       "      <th>id</th>\n",
       "      <th>grp</th>\n",
       "    </tr>\n",
       "  </thead>\n",
       "  <tbody>\n",
       "    <tr>\n",
       "      <th>0</th>\n",
       "      <td>1489</td>\n",
       "      <td>B</td>\n",
       "    </tr>\n",
       "    <tr>\n",
       "      <th>1</th>\n",
       "      <td>1627</td>\n",
       "      <td>A</td>\n",
       "    </tr>\n",
       "    <tr>\n",
       "      <th>2</th>\n",
       "      <td>1768</td>\n",
       "      <td>B</td>\n",
       "    </tr>\n",
       "    <tr>\n",
       "      <th>3</th>\n",
       "      <td>1783</td>\n",
       "      <td>B</td>\n",
       "    </tr>\n",
       "    <tr>\n",
       "      <th>4</th>\n",
       "      <td>1794</td>\n",
       "      <td>A</td>\n",
       "    </tr>\n",
       "  </tbody>\n",
       "</table style=\"display:inline\"></td></th><th style=\"text-align:center\"><td style=\"vertical-align:top\"><h2 style=\"text-align: center;\">active</h2><table style=\"display:inline\" border=\"1\" class=\"dataframe\">\n",
       "  <thead>\n",
       "    <tr style=\"text-align: right;\">\n",
       "      <th></th>\n",
       "      <th>id</th>\n",
       "      <th>status_active</th>\n",
       "    </tr>\n",
       "  </thead>\n",
       "  <tbody>\n",
       "    <tr>\n",
       "      <th>0</th>\n",
       "      <td>581585</td>\n",
       "      <td>1</td>\n",
       "    </tr>\n",
       "    <tr>\n",
       "      <th>1</th>\n",
       "      <td>5723133</td>\n",
       "      <td>1</td>\n",
       "    </tr>\n",
       "    <tr>\n",
       "      <th>2</th>\n",
       "      <td>3276743</td>\n",
       "      <td>1</td>\n",
       "    </tr>\n",
       "    <tr>\n",
       "      <th>3</th>\n",
       "      <td>4238589</td>\n",
       "      <td>1</td>\n",
       "    </tr>\n",
       "    <tr>\n",
       "      <th>4</th>\n",
       "      <td>4475369</td>\n",
       "      <td>1</td>\n",
       "    </tr>\n",
       "  </tbody>\n",
       "</table style=\"display:inline\"></td></th><th style=\"text-align:center\"><td style=\"vertical-align:top\"><h2 style=\"text-align: center;\">checks</h2><table style=\"display:inline\" border=\"1\" class=\"dataframe\">\n",
       "  <thead>\n",
       "    <tr style=\"text-align: right;\">\n",
       "      <th></th>\n",
       "      <th>id</th>\n",
       "      <th>rev</th>\n",
       "      <th>status_rev</th>\n",
       "    </tr>\n",
       "  </thead>\n",
       "  <tbody>\n",
       "    <tr>\n",
       "      <th>0</th>\n",
       "      <td>1627</td>\n",
       "      <td>990.0</td>\n",
       "      <td>1</td>\n",
       "    </tr>\n",
       "    <tr>\n",
       "      <th>1</th>\n",
       "      <td>3185</td>\n",
       "      <td>690.0</td>\n",
       "      <td>1</td>\n",
       "    </tr>\n",
       "    <tr>\n",
       "      <th>2</th>\n",
       "      <td>25973</td>\n",
       "      <td>690.0</td>\n",
       "      <td>1</td>\n",
       "    </tr>\n",
       "    <tr>\n",
       "      <th>3</th>\n",
       "      <td>26280</td>\n",
       "      <td>690.0</td>\n",
       "      <td>1</td>\n",
       "    </tr>\n",
       "    <tr>\n",
       "      <th>4</th>\n",
       "      <td>100300</td>\n",
       "      <td>990.0</td>\n",
       "      <td>1</td>\n",
       "    </tr>\n",
       "  </tbody>\n",
       "</table style=\"display:inline\"></td></th>"
      ]
     },
     "metadata": {},
     "output_type": "display_data"
    }
   ],
   "source": [
    "# посмотр всех предоставленные df\n",
    "display_side_by_side(groups_add.head(5),groups.head(5),active.head(5),checks.head(5),\\\n",
    "                         titles=['groups_add','groups', 'active', 'checks'])"
   ]
  },
  {
   "cell_type": "code",
   "execution_count": 9,
   "metadata": {},
   "outputs": [],
   "source": [
    "# Так как структура данных у groups_add и groups иднетична, объединяю их в один df\n",
    "groups_total = pd.concat([groups_add, groups])"
   ]
  },
  {
   "cell_type": "code",
   "execution_count": 10,
   "metadata": {},
   "outputs": [
    {
     "data": {
      "text/html": [
       "<th style=\"text-align:center\"><td style=\"vertical-align:top\"><h2 style=\"text-align: center;\">groups_total</h2><table style=\"display:inline\" border=\"1\" class=\"dataframe\">\n",
       "  <thead>\n",
       "    <tr style=\"text-align: right;\">\n",
       "      <th></th>\n",
       "      <th>id</th>\n",
       "      <th>grp</th>\n",
       "    </tr>\n",
       "  </thead>\n",
       "  <tbody>\n",
       "    <tr>\n",
       "      <th>0</th>\n",
       "      <td>5694584</td>\n",
       "      <td>B</td>\n",
       "    </tr>\n",
       "    <tr>\n",
       "      <th>1</th>\n",
       "      <td>5694830</td>\n",
       "      <td>B</td>\n",
       "    </tr>\n",
       "    <tr>\n",
       "      <th>2</th>\n",
       "      <td>5695057</td>\n",
       "      <td>B</td>\n",
       "    </tr>\n",
       "    <tr>\n",
       "      <th>3</th>\n",
       "      <td>5698872</td>\n",
       "      <td>B</td>\n",
       "    </tr>\n",
       "    <tr>\n",
       "      <th>4</th>\n",
       "      <td>5699067</td>\n",
       "      <td>B</td>\n",
       "    </tr>\n",
       "  </tbody>\n",
       "</table style=\"display:inline\"></td></th><th style=\"text-align:center\"><td style=\"vertical-align:top\"><h2 style=\"text-align: center;\">active</h2><table style=\"display:inline\" border=\"1\" class=\"dataframe\">\n",
       "  <thead>\n",
       "    <tr style=\"text-align: right;\">\n",
       "      <th></th>\n",
       "      <th>id</th>\n",
       "      <th>status_active</th>\n",
       "    </tr>\n",
       "  </thead>\n",
       "  <tbody>\n",
       "    <tr>\n",
       "      <th>0</th>\n",
       "      <td>581585</td>\n",
       "      <td>1</td>\n",
       "    </tr>\n",
       "    <tr>\n",
       "      <th>1</th>\n",
       "      <td>5723133</td>\n",
       "      <td>1</td>\n",
       "    </tr>\n",
       "    <tr>\n",
       "      <th>2</th>\n",
       "      <td>3276743</td>\n",
       "      <td>1</td>\n",
       "    </tr>\n",
       "    <tr>\n",
       "      <th>3</th>\n",
       "      <td>4238589</td>\n",
       "      <td>1</td>\n",
       "    </tr>\n",
       "    <tr>\n",
       "      <th>4</th>\n",
       "      <td>4475369</td>\n",
       "      <td>1</td>\n",
       "    </tr>\n",
       "  </tbody>\n",
       "</table style=\"display:inline\"></td></th><th style=\"text-align:center\"><td style=\"vertical-align:top\"><h2 style=\"text-align: center;\">checks</h2><table style=\"display:inline\" border=\"1\" class=\"dataframe\">\n",
       "  <thead>\n",
       "    <tr style=\"text-align: right;\">\n",
       "      <th></th>\n",
       "      <th>id</th>\n",
       "      <th>rev</th>\n",
       "      <th>status_rev</th>\n",
       "    </tr>\n",
       "  </thead>\n",
       "  <tbody>\n",
       "    <tr>\n",
       "      <th>0</th>\n",
       "      <td>1627</td>\n",
       "      <td>990.0</td>\n",
       "      <td>1</td>\n",
       "    </tr>\n",
       "    <tr>\n",
       "      <th>1</th>\n",
       "      <td>3185</td>\n",
       "      <td>690.0</td>\n",
       "      <td>1</td>\n",
       "    </tr>\n",
       "    <tr>\n",
       "      <th>2</th>\n",
       "      <td>25973</td>\n",
       "      <td>690.0</td>\n",
       "      <td>1</td>\n",
       "    </tr>\n",
       "    <tr>\n",
       "      <th>3</th>\n",
       "      <td>26280</td>\n",
       "      <td>690.0</td>\n",
       "      <td>1</td>\n",
       "    </tr>\n",
       "    <tr>\n",
       "      <th>4</th>\n",
       "      <td>100300</td>\n",
       "      <td>990.0</td>\n",
       "      <td>1</td>\n",
       "    </tr>\n",
       "  </tbody>\n",
       "</table style=\"display:inline\"></td></th>"
      ]
     },
     "metadata": {},
     "output_type": "display_data"
    }
   ],
   "source": [
    "display_side_by_side(groups_total.head(5),active.head(5),checks.head(5),\\\n",
    "                         titles=['groups_total','active', 'checks'])"
   ]
  },
  {
   "cell_type": "code",
   "execution_count": 11,
   "metadata": {},
   "outputs": [
    {
     "name": "stdout",
     "output_type": "stream",
     "text": [
      "Groups_total: строк и столбцов: (74576, 2)\n",
      "Groups_add: строк и столбцов: (92, 2)\n",
      "Groups: строк и столбцов: (74484, 2)\n",
      "Active: строк и столбцов: (8341, 2)\n",
      "Checks: строк и столбцов: (541, 3)\n"
     ]
    }
   ],
   "source": [
    "# посмотрим количество строк и столбцов в каждом df\n",
    "print('Groups_total: строк и столбцов:', groups_total.shape) #Дополнительно проверю, чтобы конкатенация прошла успешно\n",
    "print('Groups_add: строк и столбцов:', groups_add.shape)\n",
    "print('Groups: строк и столбцов:', groups.shape)\n",
    "print('Active: строк и столбцов:', active.shape)\n",
    "print('Checks: строк и столбцов:', checks.shape)"
   ]
  },
  {
   "cell_type": "code",
   "execution_count": 12,
   "metadata": {},
   "outputs": [
    {
     "name": "stdout",
     "output_type": "stream",
     "text": [
      "Groups_total: проверка дубликатов: False\n",
      "Groups_add: проверка дубликатов: False\n",
      "Groups: проверка дубликатов: False\n",
      "Active: проверка дубликатов: False\n",
      "Checks: проверка дубликатов: False\n"
     ]
    }
   ],
   "source": [
    "# посмотрим на наличие дубликатов\n",
    "print('Groups_total: проверка дубликатов:', groups_total.duplicated().any())\n",
    "print('Groups_add: проверка дубликатов:', groups_add.duplicated().any())\n",
    "print('Groups: проверка дубликатов:', groups.duplicated().any())\n",
    "print('Active: проверка дубликатов:', active.duplicated().any())\n",
    "print('Checks: проверка дубликатов:', checks.duplicated().any())"
   ]
  },
  {
   "cell_type": "code",
   "execution_count": 13,
   "metadata": {},
   "outputs": [
    {
     "name": "stdout",
     "output_type": "stream",
     "text": [
      "Groups_total: проверка пустых ячеек: id     0\n",
      "grp    0\n",
      "dtype: int64\n",
      "Groups_add: проверка пустых ячеек: id     0\n",
      "grp    0\n",
      "dtype: int64\n",
      "Groups: проверка пустых ячеек: id     0\n",
      "grp    0\n",
      "dtype: int64\n",
      "Active: проверка пустых ячеек: id               0\n",
      "status_active    0\n",
      "dtype: int64\n",
      "Checks: проверка пустых ячеек: id            0\n",
      "rev           0\n",
      "status_rev    0\n",
      "dtype: int64\n"
     ]
    }
   ],
   "source": [
    "# посмотрим на наличие пустых ячеек\n",
    "print('Groups_total: проверка пустых ячеек:', groups_total.isna().sum())\n",
    "print('Groups_add: проверка пустых ячеек:', groups_add.isna().sum())\n",
    "print('Groups: проверка пустых ячеек:', groups.isna().sum())\n",
    "print('Active: проверка пустых ячеек:', active.isna().sum())\n",
    "print('Checks: проверка пустых ячеек:', checks.isna().sum())"
   ]
  },
  {
   "cell_type": "markdown",
   "metadata": {},
   "source": [
    "### Шаг 2. Работа внутри DataFrame\n",
    "Ок, данные выверены по ним вопросов нет, далее определяю метрики, которые буду прорабатывать. Так как я сначала выполнил задания 2 и 3, только потом приступил к 1-му, поэтому набор метрик будет такой-же как и во 2 и 3 заданиях, а именно:\n",
    "- ARPU - (Average Revenue Per User), т.е. средний доход на пользователя\n",
    "- ARPPU - (Average Revenue Per Active User), т.е. средний доход платящего на пользователя\n",
    "- CR - (Сonversion rate), т.е. коэффициент конверсии"
   ]
  },
  {
   "cell_type": "code",
   "execution_count": 14,
   "metadata": {},
   "outputs": [
    {
     "data": {
      "text/html": [
       "<div>\n",
       "<style scoped>\n",
       "    .dataframe tbody tr th:only-of-type {\n",
       "        vertical-align: middle;\n",
       "    }\n",
       "\n",
       "    .dataframe tbody tr th {\n",
       "        vertical-align: top;\n",
       "    }\n",
       "\n",
       "    .dataframe thead th {\n",
       "        text-align: right;\n",
       "    }\n",
       "</style>\n",
       "<table border=\"1\" class=\"dataframe\">\n",
       "  <thead>\n",
       "    <tr style=\"text-align: right;\">\n",
       "      <th></th>\n",
       "      <th>id</th>\n",
       "      <th>grp</th>\n",
       "      <th>rev</th>\n",
       "      <th>status_rev</th>\n",
       "      <th>status_active</th>\n",
       "    </tr>\n",
       "  </thead>\n",
       "  <tbody>\n",
       "    <tr>\n",
       "      <th>0</th>\n",
       "      <td>5694584</td>\n",
       "      <td>B</td>\n",
       "      <td>0.0</td>\n",
       "      <td>0.0</td>\n",
       "      <td>0.0</td>\n",
       "    </tr>\n",
       "    <tr>\n",
       "      <th>1</th>\n",
       "      <td>5694830</td>\n",
       "      <td>B</td>\n",
       "      <td>0.0</td>\n",
       "      <td>0.0</td>\n",
       "      <td>0.0</td>\n",
       "    </tr>\n",
       "    <tr>\n",
       "      <th>2</th>\n",
       "      <td>5695057</td>\n",
       "      <td>B</td>\n",
       "      <td>0.0</td>\n",
       "      <td>0.0</td>\n",
       "      <td>0.0</td>\n",
       "    </tr>\n",
       "    <tr>\n",
       "      <th>3</th>\n",
       "      <td>5698872</td>\n",
       "      <td>B</td>\n",
       "      <td>0.0</td>\n",
       "      <td>0.0</td>\n",
       "      <td>0.0</td>\n",
       "    </tr>\n",
       "    <tr>\n",
       "      <th>4</th>\n",
       "      <td>5699067</td>\n",
       "      <td>B</td>\n",
       "      <td>0.0</td>\n",
       "      <td>0.0</td>\n",
       "      <td>0.0</td>\n",
       "    </tr>\n",
       "  </tbody>\n",
       "</table>\n",
       "</div>"
      ],
      "text/plain": [
       "        id grp  rev  status_rev  status_active\n",
       "0  5694584   B  0.0         0.0            0.0\n",
       "1  5694830   B  0.0         0.0            0.0\n",
       "2  5695057   B  0.0         0.0            0.0\n",
       "3  5698872   B  0.0         0.0            0.0\n",
       "4  5699067   B  0.0         0.0            0.0"
      ]
     },
     "execution_count": 14,
     "metadata": {},
     "output_type": "execute_result"
    }
   ],
   "source": [
    "# создаем колонки с признаками активного пользователя и платящего пользователя, \n",
    "# чтобы в дальнешем было удобнее ориентироваться в данных\n",
    "active['status_active'] = 1\n",
    "checks['status_rev'] = 1\n",
    "# переименовываем столбцы, чтобы было удобно сцепить и делать merge всех df\n",
    "active=active.rename(columns={'student_id':'id'})\n",
    "checks=checks.rename(columns={'student_id':'id'})\n",
    "# объединяем все df\n",
    "df_t1=groups_total.merge(checks, how='left', on='id').merge(active, how='left', on='id')\n",
    "df_t1=df_t1.fillna(0)\n",
    "df_t1.head(5)"
   ]
  },
  {
   "cell_type": "markdown",
   "metadata": {},
   "source": [
    " "
   ]
  },
  {
   "cell_type": "markdown",
   "metadata": {},
   "source": [
    "Итак, так как были определены метрики ARPU, ARPPU и CR, теперь посмотрю общие данные по ним"
   ]
  },
  {
   "cell_type": "code",
   "execution_count": 15,
   "metadata": {},
   "outputs": [
    {
     "data": {
      "text/html": [
       "<div>\n",
       "<style scoped>\n",
       "    .dataframe tbody tr th:only-of-type {\n",
       "        vertical-align: middle;\n",
       "    }\n",
       "\n",
       "    .dataframe tbody tr th {\n",
       "        vertical-align: top;\n",
       "    }\n",
       "\n",
       "    .dataframe thead th {\n",
       "        text-align: right;\n",
       "    }\n",
       "</style>\n",
       "<table border=\"1\" class=\"dataframe\">\n",
       "  <thead>\n",
       "    <tr style=\"text-align: right;\">\n",
       "      <th></th>\n",
       "      <th>grp</th>\n",
       "      <th>rev</th>\n",
       "      <th>count_id</th>\n",
       "      <th>count_id_with_payment</th>\n",
       "      <th>status_active</th>\n",
       "      <th>ARPU</th>\n",
       "      <th>ARPPU</th>\n",
       "      <th>CR</th>\n",
       "    </tr>\n",
       "  </thead>\n",
       "  <tbody>\n",
       "    <tr>\n",
       "      <th>0</th>\n",
       "      <td>A</td>\n",
       "      <td>92096.0000</td>\n",
       "      <td>14693</td>\n",
       "      <td>107.0</td>\n",
       "      <td>1538.0</td>\n",
       "      <td>6.268019</td>\n",
       "      <td>860.710280</td>\n",
       "      <td>0.728238</td>\n",
       "    </tr>\n",
       "    <tr>\n",
       "      <th>1</th>\n",
       "      <td>B</td>\n",
       "      <td>481230.0036</td>\n",
       "      <td>59883</td>\n",
       "      <td>434.0</td>\n",
       "      <td>6803.0</td>\n",
       "      <td>8.036171</td>\n",
       "      <td>1108.824893</td>\n",
       "      <td>0.724747</td>\n",
       "    </tr>\n",
       "  </tbody>\n",
       "</table>\n",
       "</div>"
      ],
      "text/plain": [
       "  grp          rev  count_id  count_id_with_payment  status_active      ARPU  \\\n",
       "0   A   92096.0000     14693                  107.0         1538.0  6.268019   \n",
       "1   B  481230.0036     59883                  434.0         6803.0  8.036171   \n",
       "\n",
       "         ARPPU        CR  \n",
       "0   860.710280  0.728238  \n",
       "1  1108.824893  0.724747  "
      ]
     },
     "execution_count": 15,
     "metadata": {},
     "output_type": "execute_result"
    }
   ],
   "source": [
    "df_agg_t1=df_t1.groupby(['grp'], as_index=False)\\\n",
    "                    .agg({'rev': 'sum', 'id': 'count', 'status_rev':'sum', 'status_active':'sum' })\\\n",
    "                    .rename(columns={'id':'count_id', 'status_rev':'count_id_with_payment'})\n",
    "df_agg_t1['ARPU']=df_agg_t1['rev']/df_agg_t1['count_id']\n",
    "df_agg_t1['ARPPU']=df_agg_t1['rev']/df_agg_t1['count_id_with_payment']\n",
    "df_agg_t1['CR']=df_agg_t1['count_id_with_payment']/df_agg_t1['count_id']*100\n",
    "df_agg_t1"
   ]
  },
  {
   "cell_type": "markdown",
   "metadata": {},
   "source": [
    " "
   ]
  },
  {
   "cell_type": "markdown",
   "metadata": {},
   "source": [
    "Для дальнейшего анализа я сосредоточусь только на активных пользователях, то есть на тех, кто содержится в файле 'active_stud'. Ранее я создал отдельный признак 'status_active' со значением '1', что позволит мне удобно фильтровать и работать именно с этой группой пользователей.\n",
    "\n",
    "Обратим внимание, что в дальнейшем мои тестирования исключительно ориентированы на эту подвыборку активных пользователей. Это связано с тем, что общая база данных может содержать устаревшую информацию, не актуальную на текущий момент.\n",
    "\n",
    "Стоит отметить, что две выборки (группы A и B) существенно отличаются по размеру, что может вызывать сомнения относительно адекватности статистической оценки различий. В таких случаях необходимо тщательно проанализировать результаты и учитывать особенности каждой выборки при интерпретации результатов тестирования.\n",
    "- в группе **А** 14 693 пользователя (19,7%)\n",
    "- в группе **В** 59 883 пользователя (80,3%)\n",
    "\n",
    "Также, если рассматривать группу с активными пользователям, то соотношением примерно такое же.\n",
    "- в группе **А** 1 538 пользователя (18,4%)\n",
    "- в группе **В** 6 803 пользователя (81,6%)"
   ]
  },
  {
   "cell_type": "markdown",
   "metadata": {},
   "source": [
    " "
   ]
  },
  {
   "cell_type": "code",
   "execution_count": 16,
   "metadata": {},
   "outputs": [
    {
     "data": {
      "text/html": [
       "<div>\n",
       "<style scoped>\n",
       "    .dataframe tbody tr th:only-of-type {\n",
       "        vertical-align: middle;\n",
       "    }\n",
       "\n",
       "    .dataframe tbody tr th {\n",
       "        vertical-align: top;\n",
       "    }\n",
       "\n",
       "    .dataframe thead th {\n",
       "        text-align: right;\n",
       "    }\n",
       "</style>\n",
       "<table border=\"1\" class=\"dataframe\">\n",
       "  <thead>\n",
       "    <tr style=\"text-align: right;\">\n",
       "      <th></th>\n",
       "      <th>grp</th>\n",
       "      <th>rev</th>\n",
       "    </tr>\n",
       "  </thead>\n",
       "  <tbody>\n",
       "    <tr>\n",
       "      <th>0</th>\n",
       "      <td>A</td>\n",
       "      <td>47.347204</td>\n",
       "    </tr>\n",
       "    <tr>\n",
       "      <th>1</th>\n",
       "      <td>B</td>\n",
       "      <td>58.058798</td>\n",
       "    </tr>\n",
       "  </tbody>\n",
       "</table>\n",
       "</div>"
      ],
      "text/plain": [
       "  grp        rev\n",
       "0   A  47.347204\n",
       "1   B  58.058798"
      ]
     },
     "execution_count": 16,
     "metadata": {},
     "output_type": "execute_result"
    }
   ],
   "source": [
    "# посмотрим ARPU по группам\n",
    "df_agg_t2_arpu=df_t1[(df_t1.status_active == 1)].groupby(['grp'], as_index=False)\\\n",
    "                    .agg({'rev': 'mean'})\n",
    "df_agg_t2_arpu"
   ]
  },
  {
   "cell_type": "code",
   "execution_count": 17,
   "metadata": {},
   "outputs": [
    {
     "data": {
      "text/html": [
       "<div>\n",
       "<style scoped>\n",
       "    .dataframe tbody tr th:only-of-type {\n",
       "        vertical-align: middle;\n",
       "    }\n",
       "\n",
       "    .dataframe tbody tr th {\n",
       "        vertical-align: top;\n",
       "    }\n",
       "\n",
       "    .dataframe thead th {\n",
       "        text-align: right;\n",
       "    }\n",
       "</style>\n",
       "<table border=\"1\" class=\"dataframe\">\n",
       "  <thead>\n",
       "    <tr style=\"text-align: right;\">\n",
       "      <th></th>\n",
       "      <th>grp</th>\n",
       "      <th>rev</th>\n",
       "    </tr>\n",
       "  </thead>\n",
       "  <tbody>\n",
       "    <tr>\n",
       "      <th>0</th>\n",
       "      <td>A</td>\n",
       "      <td>933.589744</td>\n",
       "    </tr>\n",
       "    <tr>\n",
       "      <th>1</th>\n",
       "      <td>B</td>\n",
       "      <td>1257.878992</td>\n",
       "    </tr>\n",
       "  </tbody>\n",
       "</table>\n",
       "</div>"
      ],
      "text/plain": [
       "  grp          rev\n",
       "0   A   933.589744\n",
       "1   B  1257.878992"
      ]
     },
     "execution_count": 17,
     "metadata": {},
     "output_type": "execute_result"
    }
   ],
   "source": [
    "# ARPPU по группам\n",
    "df_agg_t2_arppu=df_t1[((df_t1.status_active == 1) & (df_t1.status_rev == 1))].groupby(['grp'], as_index=False)\\\n",
    "                    .agg({'rev': 'mean'})\n",
    "df_agg_t2_arppu"
   ]
  },
  {
   "cell_type": "code",
   "execution_count": 18,
   "metadata": {},
   "outputs": [
    {
     "data": {
      "image/png": "[encoded data removed]",
      "text/plain": [
       "<Figure size 1440x720 with 1 Axes>"
      ]
     },
     "metadata": {
      "needs_background": "light"
     },
     "output_type": "display_data"
    }
   ],
   "source": [
    "# визузализируем, чтобы проверить средние и посомтреть наличие выбросов\n",
    "df_filtered = df_t1[((df_t1.status_active == 1) & (df_t1.status_rev == 1))].sort_values('grp')\n",
    "plt.figure(figsize=(20, 10))\n",
    "sns.boxplot(x='grp', y='rev', data=df_filtered)\n",
    "plt.xlabel('Groups')\n",
    "plt.ylabel('Rev')\n",
    "plt.show()"
   ]
  },
  {
   "cell_type": "markdown",
   "metadata": {},
   "source": [
    "### Шаг 3. Приступаю к А/В тестированию.\n",
    "Формулирую нулевую и альтернативную гипотезы:\n",
    "- H0 (нулевая гипотеза): Нет статистически значимой разницы между данными группами.\n",
    "- H1 (альтернативная гипотеза): Соответственно, статистически значимая разница существует."
   ]
  },
  {
   "cell_type": "code",
   "execution_count": 19,
   "metadata": {},
   "outputs": [
    {
     "data": {
      "text/html": [
       "<div>\n",
       "<style scoped>\n",
       "    .dataframe tbody tr th:only-of-type {\n",
       "        vertical-align: middle;\n",
       "    }\n",
       "\n",
       "    .dataframe tbody tr th {\n",
       "        vertical-align: top;\n",
       "    }\n",
       "\n",
       "    .dataframe thead th {\n",
       "        text-align: right;\n",
       "    }\n",
       "</style>\n",
       "<table border=\"1\" class=\"dataframe\">\n",
       "  <thead>\n",
       "    <tr style=\"text-align: right;\">\n",
       "      <th></th>\n",
       "      <th>id</th>\n",
       "      <th>grp</th>\n",
       "      <th>rev</th>\n",
       "      <th>status_rev</th>\n",
       "      <th>status_active</th>\n",
       "    </tr>\n",
       "  </thead>\n",
       "  <tbody>\n",
       "    <tr>\n",
       "      <th>7</th>\n",
       "      <td>5700613</td>\n",
       "      <td>B</td>\n",
       "      <td>0.0</td>\n",
       "      <td>0.0</td>\n",
       "      <td>1.0</td>\n",
       "    </tr>\n",
       "    <tr>\n",
       "      <th>39</th>\n",
       "      <td>5723133</td>\n",
       "      <td>A</td>\n",
       "      <td>0.0</td>\n",
       "      <td>0.0</td>\n",
       "      <td>1.0</td>\n",
       "    </tr>\n",
       "    <tr>\n",
       "      <th>40</th>\n",
       "      <td>5723648</td>\n",
       "      <td>B</td>\n",
       "      <td>0.0</td>\n",
       "      <td>0.0</td>\n",
       "      <td>1.0</td>\n",
       "    </tr>\n",
       "    <tr>\n",
       "      <th>43</th>\n",
       "      <td>5728431</td>\n",
       "      <td>B</td>\n",
       "      <td>0.0</td>\n",
       "      <td>0.0</td>\n",
       "      <td>1.0</td>\n",
       "    </tr>\n",
       "    <tr>\n",
       "      <th>44</th>\n",
       "      <td>5729371</td>\n",
       "      <td>A</td>\n",
       "      <td>0.0</td>\n",
       "      <td>0.0</td>\n",
       "      <td>1.0</td>\n",
       "    </tr>\n",
       "  </tbody>\n",
       "</table>\n",
       "</div>"
      ],
      "text/plain": [
       "         id grp  rev  status_rev  status_active\n",
       "7   5700613   B  0.0         0.0            1.0\n",
       "39  5723133   A  0.0         0.0            1.0\n",
       "40  5723648   B  0.0         0.0            1.0\n",
       "43  5728431   B  0.0         0.0            1.0\n",
       "44  5729371   A  0.0         0.0            1.0"
      ]
     },
     "execution_count": 19,
     "metadata": {},
     "output_type": "execute_result"
    }
   ],
   "source": [
    "# берем данные только по активным пользователям\n",
    "df_au=df_t1[(df_t1.status_active == 1)]\n",
    "df_au.head()"
   ]
  },
  {
   "cell_type": "code",
   "execution_count": 20,
   "metadata": {},
   "outputs": [
    {
     "data": {
      "image/png": "[encoded data removed]",
      "text/plain": [
       "<Figure size 1080x432 with 1 Axes>"
      ]
     },
     "metadata": {
      "needs_background": "light"
     },
     "output_type": "display_data"
    }
   ],
   "source": [
    "# посмотрим на распеределение платежей, чтобы опрделиться каким именно тестом пользоваться.\n",
    "df_graf=df_au[(df_au.status_rev == 1)]\n",
    "plt.figure(figsize=(15, 6)) \n",
    "plt.hist(df_graf['rev'], bins=20, edgecolor='black')\n",
    "plt.xlabel('Rev') \n",
    "plt.ylabel('Коилчество') \n",
    "plt.title('Распредление платежей') \n",
    "plt.grid(True)  \n",
    "plt.show()  "
   ]
  },
  {
   "cell_type": "markdown",
   "metadata": {},
   "source": [
    "### Шаг 4. Выбор метода. Так как распределение не является нормальным, буду использовать тестирование через критерий Манна-Уитни \n",
    "\n",
    "Для этого:\n",
    "1. Подготавлиеваем данные\n",
    "2. Определяем и расчитываем метрики\n",
    "3. Применяем критерий Манна-Уитни\n",
    "8. Получаем p-value"
   ]
  },
  {
   "cell_type": "code",
   "execution_count": 17,
   "metadata": {},
   "outputs": [
    {
     "name": "stdout",
     "output_type": "stream",
     "text": [
      "ARPU:\n",
      "U-статистика = 5252113.0\n",
      "p-value = 0.5099747992861601\n",
      "\n",
      "ARPPU:\n",
      "U-статистика = 9001.0\n",
      "p-value = 0.0002511393831406922\n",
      "\n",
      "CR:\n",
      "U-статистика = 5255358.0\n",
      "p-value = 0.4455071016631552\n",
      "\n",
      "ARPU:  Не отклоняем H0. Нет статистически значимой разницы между группами А и В\n",
      "ARPPU: Отклоняем H0. Существует статистически значимая разница между группами А и В\n",
      "CR:    Не отклоняем H0. Нет статистически значимой разницы между группами А и В\n"
     ]
    }
   ],
   "source": [
    "# разделяю df на два, по группам А и В\n",
    "group_a=df_au[df_au['grp'] =='A']\n",
    "group_b=df_au[df_au['grp'] =='B']\n",
    "\n",
    "# выполняем тест Манна-Уитни для ARPU\n",
    "statistic_arpu, p_value_arpu=mannwhitneyu(group_a['rev']\\\n",
    "                                            , group_b['rev']\\\n",
    "                                            , alternative='two-sided') #рассматриваем различия в обе стороны (как + так и -)\n",
    "\n",
    "# для ARPPU\n",
    "statistic_arppu, p_value_arppu=mannwhitneyu(group_a[group_a['status_rev']==1]['rev']\\\n",
    "                                              , group_b[group_b['status_rev'] == 1]['rev']\\\n",
    "                                              , alternative='two-sided') #рассматриваем различия в обе стороны (как + так и -)\n",
    "\n",
    "# для CR\n",
    "statistic_cr, p_value_cr=mannwhitneyu(group_a['status_rev']\\\n",
    "                                        , group_b['status_rev']\\\n",
    "                                        , alternative='two-sided') #рассматриваем различия в обе стороны (как + так и -)\n",
    "\n",
    "# вывожу результаты\n",
    "print(\"ARPU:\")\n",
    "print(\"U-статистика =\", statistic_arpu)\n",
    "print(\"p-value =\", p_value_arpu)\n",
    "\n",
    "print(\"\\nARPPU:\")\n",
    "print(\"U-статистика =\", statistic_arppu)\n",
    "print(\"p-value =\", p_value_arppu)\n",
    "\n",
    "print(\"\\nCR:\")\n",
    "print(\"U-статистика =\", statistic_cr)\n",
    "print(\"p-value =\", p_value_cr)\n",
    "\n",
    "# проверяем p-value на стат. значимость\n",
    "if p_value_arpu< 0.05:\n",
    "    print(\"\\n ARPU: Отклоняем H0. Существует статистически значимая разница между группами А и В\")\n",
    "else:\n",
    "    print(\"\\nARPU:  Не отклоняем H0. Нет статистически значимой разницы между группами А и В\")\n",
    "\n",
    "if p_value_arppu < 0.05:\n",
    "    print(\"ARPPU: Отклоняем H0. Существует статистически значимая разница между группами А и В\")\n",
    "else:\n",
    "    print(\"ARPPU: Не отклоняем H0. Нет статистически значимой разницы между группами А и В\")\n",
    "\n",
    "if p_value_cr < 0.05:\n",
    "    print(\"CR: Отклоняем H0. Существует статистически значимая разница между группами А и В\")\n",
    "else:\n",
    "    print(\"CR:    Не отклоняем H0. Нет статистически значимой разницы между группами А и В\")"
   ]
  },
  {
   "cell_type": "markdown",
   "metadata": {},
   "source": [
    "### Вывод по Манну-Уитни:"
   ]
  },
  {
   "cell_type": "markdown",
   "metadata": {},
   "source": [
    "**- ARPU (средний доход на пользователя):**\n",
    "- **Не отклоняем H0**\n",
    "- Средний доход на пользователя не сильно отличается в разных группах.\n",
    "- Разница в среднем доходе на пользователя между группами A и B статистически незначима.\n",
    "\n",
    "**- ARPPU (средний доход платящего на пользователя):**\n",
    "- **Отклоняем H0**\n",
    "- В группе B средний доход на платящего пользователя значительно выше, чем в группе A.\n",
    "- Разница в среднем доходе на платящего пользователя между группами A и B является статистически значимой.\n",
    "\n",
    "\n",
    "**- CR (Conversion Rate - Доля пользователей, совершивших оплату):**\n",
    "- **Не отклоняем H0**\n",
    "- Разница в доле пользователей, совершивших оплату, между группами A и B статистически незначима.\n",
    "- Обе группы имеют примерно одинаковую долю пользователей, которые совершают оплату.\n"
   ]
  },
  {
   "cell_type": "markdown",
   "metadata": {},
   "source": [
    "______________________"
   ]
  },
  {
   "cell_type": "markdown",
   "metadata": {},
   "source": [
    " "
   ]
  },
  {
   "cell_type": "markdown",
   "metadata": {},
   "source": [
    "### Также, проведу тестирование через Bootstrap:\n",
    "\n",
    "Для этого:\n",
    "1. Подготавлиеваем данные\n",
    "2. Определяем и расчитываем метрики\n",
    "3. Определяем количество повторений/выборок (чем больше, тем выше точность результатов)\n",
    "4. Генерируем выборки\n",
    "5. Рассчитываем метрики по выборкам\n",
    "6. Вычисляем наблюдаемую статистику (из оригинальных данных) \n",
    "7. Вычисляем статистику на основе сгенерированныз выборок/перестановок\n",
    "8. Получаем p-value"
   ]
  },
  {
   "cell_type": "markdown",
   "metadata": {},
   "source": [
    "### Шаг 1. Подготовим данных и раздедение на соответствующие группы:"
   ]
  },
  {
   "cell_type": "code",
   "execution_count": 42,
   "metadata": {},
   "outputs": [],
   "source": [
    "# разделяем данные на две группы для ARPU\n",
    "group_a_arpu=df_au[df_au['grp']=='A']['rev'].values\n",
    "group_b_arpu=df_au[df_au['grp']=='B']['rev'].values\n",
    "\n",
    "# для ARPPU\n",
    "group_a_arppu=df_au[(df_au['grp']=='A') & (df_au['status_rev']==1)]['rev'].values\n",
    "group_b_arppu=df_au[(df_au['grp']=='B') & (df_au['status_rev']==1)]['rev'].values\n",
    "\n",
    "# для CR\n",
    "group_a_cr=df_au[(df_au['grp']=='A') & (df_au['status_active']==1)]['status_rev'].values\n",
    "group_b_cr=df_au[(df_au['grp']=='B') & (df_au['status_active']==1)]['status_rev'].values\n",
    "\n",
    "# задаем количество повторений в Bootstrap\n",
    "samples = 1000\n",
    "\n",
    "# создаем общую функцию для вычисления метрик\n",
    "def bootstrap_func(sample):\n",
    "    return sample.mean()"
   ]
  },
  {
   "cell_type": "markdown",
   "metadata": {},
   "source": [
    "### Шаг 2. Смотрим p-value для ARPU"
   ]
  },
  {
   "cell_type": "code",
   "execution_count": 47,
   "metadata": {},
   "outputs": [
    {
     "name": "stdout",
     "output_type": "stream",
     "text": [
      "p-value ARPU: 0.52200\n"
     ]
    }
   ],
   "source": [
    "# Bootstrap анализ и перестановка\n",
    "arpu_a = np.random.choice(group_a_arpu, size=(samples, len(group_a_arpu)), replace=True)\n",
    "arpu_b = np.random.choice(group_b_arpu, size=(samples, len(group_b_arpu)), replace=True)\n",
    "\n",
    "metrics_arpu_a = np.apply_along_axis(bootstrap_func, axis=1, arr=arpu_a)\n",
    "metrics_arpu_b = np.apply_along_axis(bootstrap_func, axis=1, arr=arpu_b)\n",
    "\n",
    "# рассчитываем фактическую статистику на основе исходных данных\n",
    "orig_stat_arpu = group_b_arpu.mean() - group_a_arpu.mean()\n",
    "# рассчитываем статистики из выборок/перестановок\n",
    "per_stat_arpu = metrics_arpu_b - metrics_arpu_a \n",
    "# рассчитываем p-value\n",
    "p_value_arpu = (np.abs(per_stat_arpu) >= np.abs(orig_stat_arpu)).mean()\n",
    "\n",
    "print(f\"p-value ARPU: {p_value_arpu:.5f}\")"
   ]
  },
  {
   "cell_type": "code",
   "execution_count": 62,
   "metadata": {},
   "outputs": [
    {
     "data": {
      "image/png": "[encoded data removed]",
      "text/plain": [
       "<Figure size 720x432 with 1 Axes>"
      ]
     },
     "metadata": {
      "needs_background": "light"
     },
     "output_type": "display_data"
    }
   ],
   "source": [
    "# визуализируем распределение средних ARPU по группам\n",
    "df_vis = pd.DataFrame({'Group': ['A'] * samples + ['B'] * samples,\n",
    "                       'ARPU': np.concatenate([metrics_arpu_b, metrics_arpu_a])})\n",
    "\n",
    "plt.figure(figsize=(10, 6))\n",
    "sns.histplot(data=df_vis, x='ARPU', hue='Group', kde=True, bins=30)\n",
    "plt.xlabel('ARPU')\n",
    "plt.ylabel('Количество')\n",
    "plt.title('Распределение средних через Bootstrap')\n",
    "plt.show()"
   ]
  },
  {
   "cell_type": "markdown",
   "metadata": {},
   "source": [
    "**ARPU (средний доход на пользователя):**\n",
    "- P_values = 52%, что сильно выше значения уровня значимости (5%), в соответствие с чем, **не отклоняем H0**"
   ]
  },
  {
   "cell_type": "markdown",
   "metadata": {},
   "source": [
    "### Шаг 3. Смотрим p-value для ARPPU"
   ]
  },
  {
   "cell_type": "code",
   "execution_count": 48,
   "metadata": {},
   "outputs": [
    {
     "name": "stdout",
     "output_type": "stream",
     "text": [
      "p-value for ARPPU: 0.52800\n"
     ]
    }
   ],
   "source": [
    "arppu_a = np.random.choice(group_a_arppu, size=(samples, len(group_a_arppu)), replace=True)\n",
    "arppu_b = np.random.choice(group_b_arppu, size=(samples, len(group_b_arppu)), replace=True)\n",
    "\n",
    "metrics_arppu_a = np.apply_along_axis(bootstrap_func, axis=1, arr=arppu_a)\n",
    "metrics_arppu_b = np.apply_along_axis(bootstrap_func, axis=1, arr=arppu_b)\n",
    "\n",
    "orig_stat_arppu = arppu_b.mean() - arppu_a.mean()\n",
    "per_stat_arppu = metrics_arppu_b - metrics_arppu_a\n",
    "p_value_arppu = (np.abs(per_stat_arppu) >= np.abs(orig_stat_arppu)).mean()\n",
    "\n",
    "print(f\"p-value ARPPU: {p_value_arppu:.5f}\")"
   ]
  },
  {
   "cell_type": "code",
   "execution_count": 64,
   "metadata": {},
   "outputs": [
    {
     "data": {
      "image/png": "[encoded data removed]",
      "text/plain": [
       "<Figure size 720x432 with 1 Axes>"
      ]
     },
     "metadata": {
      "needs_background": "light"
     },
     "output_type": "display_data"
    }
   ],
   "source": [
    "df_vis = pd.DataFrame({'Group': ['A'] * samples + ['B'] * samples,\n",
    "                       'ARPPU': np.concatenate([metrics_arppu_b, metrics_arppu_a])})\n",
    "\n",
    "plt.figure(figsize=(10, 6))\n",
    "sns.histplot(data=df_vis, x='ARPPU', hue='Group', kde=True, bins=30)\n",
    "plt.xlabel('ARPPU')\n",
    "plt.ylabel('Количество')\n",
    "plt.title('Распределение средних через Bootstrap')\n",
    "plt.show()"
   ]
  },
  {
   "cell_type": "markdown",
   "metadata": {},
   "source": [
    "**ARPPU (средний доход на платящего пользователя):**\n",
    "- P_values = 53%, что сильно выше значения уровня значимости (5%), в соответствие с чем, **не отклоняем H0**"
   ]
  },
  {
   "cell_type": "markdown",
   "metadata": {},
   "source": [
    "###  Шаг 4. Смотрим p-value для CR"
   ]
  },
  {
   "cell_type": "code",
   "execution_count": 68,
   "metadata": {},
   "outputs": [
    {
     "name": "stdout",
     "output_type": "stream",
     "text": [
      "p-value CR: 0.55300\n"
     ]
    }
   ],
   "source": [
    "cr_a = np.random.choice(group_a_cr, size=(samples, len(group_a_cr)), replace=True)\n",
    "cr_b = np.random.choice(group_b_cr, size=(samples, len(group_b_cr)), replace=True)\n",
    "\n",
    "metrics_cr_a = np.apply_along_axis(bootstrap_func, axis=1, arr=cr_a)\n",
    "metrics_cr_b = np.apply_along_axis(bootstrap_func, axis=1, arr=cr_b)\n",
    "\n",
    "orig_stat_cr = group_b_cr.mean() - group_a_cr.mean()\n",
    "per_stat_cr = metrics_cr_b - metrics_cr_a\n",
    "p_value_cr = (np.abs(per_stat_cr) >= np.abs(orig_stat_cr)).mean()\n",
    "\n",
    "print(f\"p-value CR: {p_value_cr:.5f}\")"
   ]
  },
  {
   "cell_type": "code",
   "execution_count": 69,
   "metadata": {},
   "outputs": [
    {
     "data": {
      "image/png": "[encoded data removed]",
      "text/plain": [
       "<Figure size 720x432 with 1 Axes>"
      ]
     },
     "metadata": {
      "needs_background": "light"
     },
     "output_type": "display_data"
    }
   ],
   "source": [
    "df_vis = pd.DataFrame({'Group': ['A'] * samples + ['B'] * samples,\n",
    "                       'CR': np.concatenate([metrics_cr_b, metrics_cr_a])})\n",
    "\n",
    "plt.figure(figsize=(10, 6))\n",
    "sns.histplot(data=df_vis, x='CR', hue='Group', kde=True, bins=30)\n",
    "plt.xlabel('CR')\n",
    "plt.ylabel('Количество')\n",
    "plt.title('Распределение через Bootstrap')\n",
    "plt.show()"
   ]
  },
  {
   "cell_type": "markdown",
   "metadata": {},
   "source": [
    "**CR:**\n",
    "- P_values = 55%, что сильно выше значения уровня значимости (5%), в соответствие с чем, **не отклоняем H0**"
   ]
  },
  {
   "cell_type": "markdown",
   "metadata": {},
   "source": [
    "### Общий вывод:\n",
    "P-value для всех трех метрик (ARPU, ARPPU и CR) составляет порядка 52-55%, также была замечена разница в количестве строк в выборках для групп A и B (в соотношение 80% / 20%), исходя из этого можно сделать следующие выводы:\n",
    "\n",
    "1. **ARPU, ARPPU и CR**: Высокие p-value указывают на то, что нет статистически значимых различий между группами нет ни по одной из метрик. Это может означать, что разница в общих метриках в разных группах могут быть результатом случайной вариации, а не систематической разницы между группами. Альтернативную гипотезу H1 рекомендуется отклонить.\n",
    "\n",
    "2. **Разница в размерах выборок**: Различие в количестве строк между группами (80% в одной группе и 20% в другой) может оказать значительное вияние на статистические тесты. В данном случае, небольшое количество данных в исследуемой группе B  может сказаться на точности и надежности результатов. Альтернативную гипотезу H1 рекомендуется отклонить.\n",
    "\n",
    "3. **Доверительные интервалы**: Довериительный интервал у группы тестовой группы B более узкий, что может говорить о том, что данные в тестовой выборке более однородны и предсказуемы.\n",
    "\n",
    "**Рекомендации:** Увеличенить размеров выборок, что может помочь уменьшить случайную вариацию и повысить статистическую мощность тестов."
   ]
  },
  {
   "cell_type": "markdown",
   "metadata": {},
   "source": [
    "----------------------------------"
   ]
  },
  {
   "cell_type": "markdown",
   "metadata": {},
   "source": [
    "-----------------------------"
   ]
  },
  {
   "cell_type": "markdown",
   "metadata": {},
   "source": [
    "# Задание 2. SQL\n",
    "### 2.1 Очень усердные ученики.\n",
    "#### 2.1.1 Условие"
   ]
  },
  {
   "cell_type": "markdown",
   "metadata": {},
   "source": [
    "Образовательные курсы состоят из различных уроков, каждый из которых состоит из нескольких маленьких заданий. \n",
    "Каждое такое маленькое задание называется \"горошиной\".\n",
    "\n",
    "Назовём очень усердным учеником того пользователя, который хотя бы раз за текущий месяц правильно решил 20 горошин.\n",
    "\n",
    "Необходимо написать оптимальный запрос, который даст информацию о количестве очень усердных студентов. Под усердным студентом мы понимаем студента, который правильно решил 20 задач за текущий месяц."
   ]
  },
  {
   "cell_type": "markdown",
   "metadata": {},
   "source": [
    "#### 2.1.2 Задача\n",
    "Дана таблица *default.peas*:\n",
    "\n",
    "| Название атрибута | Тип атрибута   | Смысловое значение   |\n",
    "|------|------|------|\n",
    "|   st_id  | int| ID ученика|\n",
    "|   timest  | timestamp| Время решения карточки|\n",
    "|   correct  | bool| \tПравильно ли решена горошина?|\n",
    "|   subject  | text| Дисциплина, в которой находится горошина|"
   ]
  },
  {
   "cell_type": "markdown",
   "metadata": {},
   "source": [
    "#### Решение:\n",
    "Так как в задание указано, что данные нужно смотреть за \"текущий месяц\", а в таблице только данные за 2021 год, оставлю выбор года и месяца за пользователем."
   ]
  },
  {
   "cell_type": "code",
   "execution_count": null,
   "metadata": {},
   "outputs": [],
   "source": [
    "--создаю таблицу с подсчетом количества горошин, а также указываю интересующий месяц и год\n",
    "with t_table as\n",
    "( \n",
    "select st_id, count (correct) as kolvo_gorosh\n",
    "from default.peas\n",
    "where correct = TRUE \n",
    "  and extract(year from timest) = 2021\n",
    "  and extract(month from timest) = 10\n",
    "group by st_id\n",
    ")\n",
    "--обращаюсь к созданной таблице и оставляю студентов, у которых более 20 горошин\n",
    "select count(*) \n",
    "from t_table\n",
    "where kolvo_gorosh > 20"
   ]
  },
  {
   "cell_type": "markdown",
   "metadata": {},
   "source": [
    "**Ответ**: 130 учеников"
   ]
  },
  {
   "cell_type": "markdown",
   "metadata": {},
   "source": [
    "### 2.2 Оптимизация воронки\n",
    "#### 2.2.1 Условие"
   ]
  },
  {
   "cell_type": "markdown",
   "metadata": {},
   "source": [
    "Образовательная платформа предлагает пройти студентам курсы по модели trial: студент может решить бесплатно лишь 30 горошин в день. Для неограниченного количества заданий в определенной дисциплине студенту необходимо приобрести полный доступ. Команда провела эксперимент, где был протестирован новый экран оплаты."
   ]
  },
  {
   "cell_type": "markdown",
   "metadata": {},
   "source": [
    "#### 2.2.2 Задача\n",
    "\n",
    "Дана таблицы: *default.peas* (см. выше), *default.studs*:"
   ]
  },
  {
   "cell_type": "markdown",
   "metadata": {},
   "source": [
    "| Название атрибута | Тип атрибута   | Смысловое значение   |\n",
    "|------|------|------|\n",
    "|   st_id  | int| ID ученика|\n",
    "|   test_grp  | text|  Метка ученика в данном эксперименте|"
   ]
  },
  {
   "cell_type": "markdown",
   "metadata": {},
   "source": [
    "и *default.final_project_check*:"
   ]
  },
  {
   "cell_type": "markdown",
   "metadata": {},
   "source": [
    "| Название атрибута | Тип атрибута   | Смысловое значение   |\n",
    "|------|------|------|\n",
    "|   st_id  | int| ID ученика|\n",
    "|   sale_time  | timestamp| Время покупки|\n",
    "|   money  | int| Цена, по которой приобрели данный курс|\n",
    "|   subject  | text| |"
   ]
  },
  {
   "cell_type": "markdown",
   "metadata": {},
   "source": [
    "Необходимо в одном запросе выгрузить следующую информацию о группах пользователей:\n",
    "\n",
    "- **ARPU**  \n",
    "\n",
    "- **ARPAU** \n",
    " \n",
    "- **CR в покупку** \n",
    "\n",
    "- **СR активного пользователя в покупку** \n",
    "\n",
    "- **CR пользователя из активности по математике (subject = ’math’) в покупку курса по математике**\n",
    "\n",
    "**Важно, что:**\n",
    "\n",
    "ARPU считается относительно всех пользователей, попавших в группы.\n",
    "\n",
    "Активным считается пользователь, за все время решивший больше 10 задач правильно в любых дисциплинах.\n",
    "\n",
    "Активным по математике считается пользователь, за все время решивший 2 или больше задач правильно по математике."
   ]
  },
  {
   "cell_type": "markdown",
   "metadata": {},
   "source": [
    " "
   ]
  },
  {
   "cell_type": "markdown",
   "metadata": {},
   "source": [
    "Разберемся в терминологии:\n",
    "- **ARPU**  - (Average Revenue Per User), т.е. средний доход на пользователя\n",
    "\n",
    "- **ARPAU** - (Average Revenue Per Active User), т.е.  средний доход от каждого активного пользователя, в нашем случае пользователей, которые решили больше 10 задач правильно\n",
    " \n",
    "- **CR в покупку** - % пользователей, которые купили полный доступ\n",
    "\n",
    "- **СR активного пользователя в покупку** - % активных пользователей, которые купили полный доступ, в нашем случае пользователей, которые решили больше 10 задач правильно\n",
    "\n",
    "- **CR пользователя из активности по математике (subject = ’math’) в покупку курса по математике**\n"
   ]
  },
  {
   "cell_type": "code",
   "execution_count": null,
   "metadata": {},
   "outputs": [],
   "source": [
    "with t_table as \n",
    "(\n",
    "select s.st_id, fp.st_id, s.test_grp, fp.money, p.subject, fp.sale_time,\n",
    "    sum(p.correct) > 10 as active_user, --проставляю признак 1 на пользователей, выполнивших большее 10 задач\n",
    "    sum(case when p.subject = 'Math' and p.correct = 1 then 1 else 0 end) >= 2 as math_user -- проставляю признак 1 на пользователей, выполнивших большее 2 задач по Math\n",
    "from default.studs s\n",
    "    left join default.final_project_check fp on s.st_id = fp.st_id\n",
    "    left join default.peas p on s.st_id = p.st_id\n",
    "group by  s.st_id, fp.st_id, s.test_grp, fp.money, p.subject, fp.sale_time\n",
    ")\n",
    "\n",
    "select s.test_grp, \n",
    "    round(avg(fp.money),2) as ARPU,\n",
    "    round(avg(case when t_table.active_user then fp.money end), 2) as ARPAU,\n",
    "    round(count(distinct fp.st_id) / count(distinct s.st_id) * 100,2)as CR,\n",
    "    round(count(distinct case when t_table.active_user and fp.st_id is not null then fp.st_id end) / count(distinct case when t_table.active_user then s.st_id end) * 100,2)  as CR_active_user,\n",
    "    round(count(distinct case when t_table.math_user and fp.st_id is not null then fp.st_id end) / count(distinct case when t_table.math_user then s.st_id end) * 100,2) as CR_math_user\n",
    "from t_table\n",
    "group by s.test_grp"
   ]
  },
  {
   "cell_type": "markdown",
   "metadata": {},
   "source": [
    "---------------------------------  "
   ]
  },
  {
   "cell_type": "markdown",
   "metadata": {},
   "source": [
    "---------------------------- "
   ]
  },
  {
   "cell_type": "markdown",
   "metadata": {},
   "source": [
    "# Задание 3. Python\n",
    "## 3.1 Задача\n",
    "\n",
    "- Реализуйте функцию, которая будет автоматически подгружать информацию из дополнительного **файла groups_add.csv (заголовки могут отличаться)** и на основании дополнительных параметров пересчитывать метрики.\n",
    "- Реализуйте функцию, которая будет строить графики по получаемым метрикам."
   ]
  },
  {
   "cell_type": "markdown",
   "metadata": {},
   "source": [
    "Так как  нет упоминаний какие именно метрики необходимо считать метрики, буду считать:\n",
    "- **ARPU**-(Average Revenue Per User), т.е. средний доход на пользователя\n",
    "- **ARPPU** -(Average Revenue Per Paying User), т.е. средний доход на платящего пользователя\n",
    "- **CR**    -(Сonversion rate), т.е. коэффициент конверсии\n",
    "\n",
    "*Напоминание по структуре файлов:*\n",
    "- *groups.csv -  файл с информацией о принадлежности пользователя к контрольной или экспериментальной группе (А – контроль, B – целевая группа)* \n",
    "- *groups_add.csv -  дополнительный файл с пользователями, который вам прислали спустя 2 дня после передачи данных*\n",
    "- *active_studs.csv -  файл с информацией о пользователях, которые зашли на платформу в дни проведения эксперимента*\n",
    "- *checks.csv - файл с информацией об оплатах пользователей в дни проведения эксперимента*"
   ]
  },
  {
   "cell_type": "markdown",
   "metadata": {},
   "source": [
    "#### Часть 1.  Создание функции, которая будет получать обновленные данные из файла groups_add расчитывать необходимые метрики."
   ]
  },
  {
   "cell_type": "code",
   "execution_count": 22,
   "metadata": {},
   "outputs": [],
   "source": [
    "import pandas as pd \n",
    "import requests \n",
    "from urllib.parse import urlencode \n",
    "\n",
    "# функция для автоматического обновления данных с Яндекс Диска\n",
    "def ya_url(public_key):\n",
    "    base_url = 'https://cloud-api.yandex.net/v1/disk/public/resources/download?' \n",
    "    final_url = base_url + urlencode(dict(public_key=public_key))\n",
    "    response = requests.get(final_url) \n",
    "    download_url = response.json()['href'] \n",
    "    return download_url\n",
    "\n",
    "# подгружаем все файлы\n",
    "groups_add = pd.read_csv(ya_url('https://disk.yandex.ru/d/5Kxrz02m3IBUwQ'), sep=',') \n",
    "groups = pd.read_csv(ya_url('https://disk.yandex.ru/d/UhyYx41rTt3clQ'), sep=';') \n",
    "active = pd.read_csv(ya_url('https://disk.yandex.ru/d/Tbs44Bm6H_FwFQ'), sep=';') \n",
    "checks = pd.read_csv(ya_url('https://disk.yandex.ru/d/pH1q-VqcxXjsVA'), sep=';') "
   ]
  },
  {
   "cell_type": "code",
   "execution_count": 23,
   "metadata": {},
   "outputs": [],
   "source": [
    "def task_3(groups, active, checks):\n",
    "    base_url = 'https://cloud-api.yandex.net/v1/disk/public/resources/download?' \n",
    "    public_key = 'https://disk.yandex.ru/d/5Kxrz02m3IBUwQ' \n",
    "    #получаю url \n",
    "    final_url = base_url + urlencode(dict(public_key=public_key)) \n",
    "    response = requests.get(final_url) \n",
    "    download_url = response.json()['href'] \n",
    "    #загружаю файл в df \n",
    "    download_response = requests.get(download_url) \n",
    "    groups_add = pd.read_csv(download_url, sep=',') \n",
    "    #решаю проблему с изменчивостью заголовков через индекс\n",
    "    groups_add = pd.read_csv('Проект_2_group_add.csv', sep=',') #потом удалить эту строку (как запустится яндекс)\n",
    "    groups_add.rename(columns=({groups_add.columns[0]: 'id', groups_add.columns[1]: 'grp'}), inplace=True) \n",
    "    #объединяю два два файла с пользователями\n",
    "    groups_total = pd.concat([groups_add, groups])\n",
    "    #переименовываю столбцы чтобы было удобно сцепить и делаю merge всех таблиц\n",
    "    active=active.rename(columns={'student_id':'id'})\n",
    "    checks=checks.rename(columns={'student_id':'id'})\n",
    "    active['status_active']= 1 #доп поле для расчета активных пользователей\n",
    "    checks['status_rev']= 1    #доп поле для расчета оплативших пользователей\n",
    "    df=groups_total.merge(checks, how='left', on='id').merge(active, how='left', on='id')\n",
    "    df=df.fillna(0)\n",
    "    df_agg=df.groupby(['grp'], as_index=False)\\\n",
    "                    .agg({'rev': 'sum', 'id': 'count', 'status_rev':'sum', 'status_active':'sum' })\\\n",
    "                    .rename(columns={'id':'count_id', 'status_rev':'count_id_with_payment'})\n",
    "    df_agg['ARPU'] = df_agg['rev']/df_agg['count_id']\n",
    "    df_agg['ARPPU'] = df_agg['rev']/df_agg['count_id_with_payment']\n",
    "    df_agg['CR'] = df_agg['count_id_with_payment']/df_agg['count_id']*100\n",
    "    return df_agg"
   ]
  },
  {
   "cell_type": "code",
   "execution_count": 24,
   "metadata": {},
   "outputs": [
    {
     "data": {
      "text/html": [
       "<div>\n",
       "<style scoped>\n",
       "    .dataframe tbody tr th:only-of-type {\n",
       "        vertical-align: middle;\n",
       "    }\n",
       "\n",
       "    .dataframe tbody tr th {\n",
       "        vertical-align: top;\n",
       "    }\n",
       "\n",
       "    .dataframe thead th {\n",
       "        text-align: right;\n",
       "    }\n",
       "</style>\n",
       "<table border=\"1\" class=\"dataframe\">\n",
       "  <thead>\n",
       "    <tr style=\"text-align: right;\">\n",
       "      <th></th>\n",
       "      <th>grp</th>\n",
       "      <th>rev</th>\n",
       "      <th>count_id</th>\n",
       "      <th>count_id_with_payment</th>\n",
       "      <th>status_active</th>\n",
       "      <th>ARPU</th>\n",
       "      <th>ARPPU</th>\n",
       "      <th>CR</th>\n",
       "    </tr>\n",
       "  </thead>\n",
       "  <tbody>\n",
       "    <tr>\n",
       "      <th>0</th>\n",
       "      <td>A</td>\n",
       "      <td>92096.0000</td>\n",
       "      <td>14693</td>\n",
       "      <td>107.0</td>\n",
       "      <td>1538.0</td>\n",
       "      <td>6.268019</td>\n",
       "      <td>860.710280</td>\n",
       "      <td>0.728238</td>\n",
       "    </tr>\n",
       "    <tr>\n",
       "      <th>1</th>\n",
       "      <td>B</td>\n",
       "      <td>481230.0036</td>\n",
       "      <td>59883</td>\n",
       "      <td>434.0</td>\n",
       "      <td>6803.0</td>\n",
       "      <td>8.036171</td>\n",
       "      <td>1108.824893</td>\n",
       "      <td>0.724747</td>\n",
       "    </tr>\n",
       "  </tbody>\n",
       "</table>\n",
       "</div>"
      ],
      "text/plain": [
       "  grp          rev  count_id  count_id_with_payment  status_active      ARPU  \\\n",
       "0   A   92096.0000     14693                  107.0         1538.0  6.268019   \n",
       "1   B  481230.0036     59883                  434.0         6803.0  8.036171   \n",
       "\n",
       "         ARPPU        CR  \n",
       "0   860.710280  0.728238  \n",
       "1  1108.824893  0.724747  "
      ]
     },
     "execution_count": 24,
     "metadata": {},
     "output_type": "execute_result"
    }
   ],
   "source": [
    "task_3(groups, active, checks)"
   ]
  },
  {
   "cell_type": "markdown",
   "metadata": {},
   "source": [
    "#### Часть 2. Создание функции, которая будет создавать графики с метриками исходя из первой функции."
   ]
  },
  {
   "cell_type": "code",
   "execution_count": 25,
   "metadata": {},
   "outputs": [],
   "source": [
    "import plotly.express as px\n",
    "import plotly.subplots as sp\n",
    "\n",
    "def task_3_visual(df_agg):\n",
    "#Создаю три графика\n",
    "    fig1 = px.bar(df_agg, x='grp', y='ARPU', title='ARPU ')\n",
    "    fig2 = px.bar(df_agg, x='grp', y='ARPPU', title='ARPPU')\n",
    "    fig3 = px.bar(df_agg, x='grp', y='CR', title='CR')\n",
    "    #Создаю сетку для графиков\n",
    "    fig = sp.make_subplots(rows=1, cols=3, subplot_titles=('ARPU', 'ARPPU', 'CR'))\n",
    "    #Добавляю графики на сетку\n",
    "    fig.add_trace(fig1.data[0], row=1, col=1)\n",
    "    fig.add_trace(fig2.data[0], row=1, col=2)\n",
    "    fig.add_trace(fig3.data[0], row=1, col=3)\n",
    "\n",
    "    #Убираю фон\n",
    "    fig.update_layout(\n",
    "        showlegend=False, \n",
    "        title_text='APRU, ARPPU и CR пользователей групп А и В',\n",
    "        title_x=0.5,\n",
    "        plot_bgcolor='white', \n",
    "        paper_bgcolor='white' \n",
    "    )\n",
    "    fig.update_traces(marker_color='blue', row=1, col=3)\n",
    "    fig.show()"
   ]
  },
  {
   "cell_type": "code",
   "execution_count": 28,
   "metadata": {},
   "outputs": [
    {
     "data": {
      "application/vnd.plotly.v1+json": {
       "config": {
        "plotlyServerURL": "https://plot.ly"
       },
       "data": [
        {
         "alignmentgroup": "True",
         "hovertemplate": "grp=%{x}<br>ARPU=%{y}<extra></extra>",
         "legendgroup": "",
         "marker": {
          "color": "#636efa"
         },
         "name": "",
         "offsetgroup": "",
         "orientation": "v",
         "showlegend": false,
         "textposition": "auto",
         "type": "bar",
         "x": [
          "A",
          "B"
         ],
         "xaxis": "x",
         "y": [
          6.268018784455183,
          8.036170592655681
         ],
         "yaxis": "y"
        },
        {
         "alignmentgroup": "True",
         "hovertemplate": "grp=%{x}<br>ARPPU=%{y}<extra></extra>",
         "legendgroup": "",
         "marker": {
          "color": "#636efa"
         },
         "name": "",
         "offsetgroup": "",
         "orientation": "v",
         "showlegend": false,
         "textposition": "auto",
         "type": "bar",
         "x": [
          "A",
          "B"
         ],
         "xaxis": "x2",
         "y": [
          860.7102803738318,
          1108.824893087558
         ],
         "yaxis": "y2"
        },
        {
         "alignmentgroup": "True",
         "hovertemplate": "grp=%{x}<br>CR=%{y}<extra></extra>",
         "legendgroup": "",
         "marker": {
          "color": "blue"
         },
         "name": "",
         "offsetgroup": "",
         "orientation": "v",
         "showlegend": false,
         "textposition": "auto",
         "type": "bar",
         "x": [
          "A",
          "B"
         ],
         "xaxis": "x3",
         "y": [
          0.7282379364323147,
          0.7247465891822387
         ],
         "yaxis": "y3"
        }
       ],
       "layout": {
        "annotations": [
         {
          "font": {
           "size": 16
          },
          "showarrow": false,
          "text": "ARPU",
          "x": 0.14444444444444446,
          "xanchor": "center",
          "xref": "paper",
          "y": 1,
          "yanchor": "bottom",
          "yref": "paper"
         },
         {
          "font": {
           "size": 16
          },
          "showarrow": false,
          "text": "ARPPU",
          "x": 0.5,
          "xanchor": "center",
          "xref": "paper",
          "y": 1,
          "yanchor": "bottom",
          "yref": "paper"
         },
         {
          "font": {
           "size": 16
          },
          "showarrow": false,
          "text": "CR",
          "x": 0.8555555555555556,
          "xanchor": "center",
          "xref": "paper",
          "y": 1,
          "yanchor": "bottom",
          "yref": "paper"
         }
        ],
        "paper_bgcolor": "white",
        "plot_bgcolor": "white",
        "showlegend": false,
        "template": {
         "data": {
          "bar": [
           {
            "error_x": {
             "color": "#2a3f5f"
            },
            "error_y": {
             "color": "#2a3f5f"
            },
            "marker": {
             "line": {
              "color": "#E5ECF6",
              "width": 0.5
             }
            },
            "type": "bar"
           }
          ],
          "barpolar": [
           {
            "marker": {
             "line": {
              "color": "#E5ECF6",
              "width": 0.5
             }
            },
            "type": "barpolar"
           }
          ],
          "carpet": [
           {
            "aaxis": {
             "endlinecolor": "#2a3f5f",
             "gridcolor": "white",
             "linecolor": "white",
             "minorgridcolor": "white",
             "startlinecolor": "#2a3f5f"
            },
            "baxis": {
             "endlinecolor": "#2a3f5f",
             "gridcolor": "white",
             "linecolor": "white",
             "minorgridcolor": "white",
             "startlinecolor": "#2a3f5f"
            },
            "type": "carpet"
           }
          ],
          "choropleth": [
           {
            "colorbar": {
             "outlinewidth": 0,
             "ticks": ""
            },
            "type": "choropleth"
           }
          ],
          "contour": [
           {
            "colorbar": {
             "outlinewidth": 0,
             "ticks": ""
            },
            "colorscale": [
             [
              0,
              "#0d0887"
             ],
             [
              0.1111111111111111,
              "#46039f"
             ],
             [
              0.2222222222222222,
              "#7201a8"
             ],
             [
              0.3333333333333333,
              "#9c179e"
             ],
             [
              0.4444444444444444,
              "#bd3786"
             ],
             [
              0.5555555555555556,
              "#d8576b"
             ],
             [
              0.6666666666666666,
              "#ed7953"
             ],
             [
              0.7777777777777778,
              "#fb9f3a"
             ],
             [
              0.8888888888888888,
              "#fdca26"
             ],
             [
              1,
              "#f0f921"
             ]
            ],
            "type": "contour"
           }
          ],
          "contourcarpet": [
           {
            "colorbar": {
             "outlinewidth": 0,
             "ticks": ""
            },
            "type": "contourcarpet"
           }
          ],
          "heatmap": [
           {
            "colorbar": {
             "outlinewidth": 0,
             "ticks": ""
            },
            "colorscale": [
             [
              0,
              "#0d0887"
             ],
             [
              0.1111111111111111,
              "#46039f"
             ],
             [
              0.2222222222222222,
              "#7201a8"
             ],
             [
              0.3333333333333333,
              "#9c179e"
             ],
             [
              0.4444444444444444,
              "#bd3786"
             ],
             [
              0.5555555555555556,
              "#d8576b"
             ],
             [
              0.6666666666666666,
              "#ed7953"
             ],
             [
              0.7777777777777778,
              "#fb9f3a"
             ],
             [
              0.8888888888888888,
              "#fdca26"
             ],
             [
              1,
              "#f0f921"
             ]
            ],
            "type": "heatmap"
           }
          ],
          "heatmapgl": [
           {
            "colorbar": {
             "outlinewidth": 0,
             "ticks": ""
            },
            "colorscale": [
             [
              0,
              "#0d0887"
             ],
             [
              0.1111111111111111,
              "#46039f"
             ],
             [
              0.2222222222222222,
              "#7201a8"
             ],
             [
              0.3333333333333333,
              "#9c179e"
             ],
             [
              0.4444444444444444,
              "#bd3786"
             ],
             [
              0.5555555555555556,
              "#d8576b"
             ],
             [
              0.6666666666666666,
              "#ed7953"
             ],
             [
              0.7777777777777778,
              "#fb9f3a"
             ],
             [
              0.8888888888888888,
              "#fdca26"
             ],
             [
              1,
              "#f0f921"
             ]
            ],
            "type": "heatmapgl"
           }
          ],
          "histogram": [
           {
            "marker": {
             "colorbar": {
              "outlinewidth": 0,
              "ticks": ""
             }
            },
            "type": "histogram"
           }
          ],
          "histogram2d": [
           {
            "colorbar": {
             "outlinewidth": 0,
             "ticks": ""
            },
            "colorscale": [
             [
              0,
              "#0d0887"
             ],
             [
              0.1111111111111111,
              "#46039f"
             ],
             [
              0.2222222222222222,
              "#7201a8"
             ],
             [
              0.3333333333333333,
              "#9c179e"
             ],
             [
              0.4444444444444444,
              "#bd3786"
             ],
             [
              0.5555555555555556,
              "#d8576b"
             ],
             [
              0.6666666666666666,
              "#ed7953"
             ],
             [
              0.7777777777777778,
              "#fb9f3a"
             ],
             [
              0.8888888888888888,
              "#fdca26"
             ],
             [
              1,
              "#f0f921"
             ]
            ],
            "type": "histogram2d"
           }
          ],
          "histogram2dcontour": [
           {
            "colorbar": {
             "outlinewidth": 0,
             "ticks": ""
            },
            "colorscale": [
             [
              0,
              "#0d0887"
             ],
             [
              0.1111111111111111,
              "#46039f"
             ],
             [
              0.2222222222222222,
              "#7201a8"
             ],
             [
              0.3333333333333333,
              "#9c179e"
             ],
             [
              0.4444444444444444,
              "#bd3786"
             ],
             [
              0.5555555555555556,
              "#d8576b"
             ],
             [
              0.6666666666666666,
              "#ed7953"
             ],
             [
              0.7777777777777778,
              "#fb9f3a"
             ],
             [
              0.8888888888888888,
              "#fdca26"
             ],
             [
              1,
              "#f0f921"
             ]
            ],
            "type": "histogram2dcontour"
           }
          ],
          "mesh3d": [
           {
            "colorbar": {
             "outlinewidth": 0,
             "ticks": ""
            },
            "type": "mesh3d"
           }
          ],
          "parcoords": [
           {
            "line": {
             "colorbar": {
              "outlinewidth": 0,
              "ticks": ""
             }
            },
            "type": "parcoords"
           }
          ],
          "pie": [
           {
            "automargin": true,
            "type": "pie"
           }
          ],
          "scatter": [
           {
            "marker": {
             "colorbar": {
              "outlinewidth": 0,
              "ticks": ""
             }
            },
            "type": "scatter"
           }
          ],
          "scatter3d": [
           {
            "line": {
             "colorbar": {
              "outlinewidth": 0,
              "ticks": ""
             }
            },
            "marker": {
             "colorbar": {
              "outlinewidth": 0,
              "ticks": ""
             }
            },
            "type": "scatter3d"
           }
          ],
          "scattercarpet": [
           {
            "marker": {
             "colorbar": {
              "outlinewidth": 0,
              "ticks": ""
             }
            },
            "type": "scattercarpet"
           }
          ],
          "scattergeo": [
           {
            "marker": {
             "colorbar": {
              "outlinewidth": 0,
              "ticks": ""
             }
            },
            "type": "scattergeo"
           }
          ],
          "scattergl": [
           {
            "marker": {
             "colorbar": {
              "outlinewidth": 0,
              "ticks": ""
             }
            },
            "type": "scattergl"
           }
          ],
          "scattermapbox": [
           {
            "marker": {
             "colorbar": {
              "outlinewidth": 0,
              "ticks": ""
             }
            },
            "type": "scattermapbox"
           }
          ],
          "scatterpolar": [
           {
            "marker": {
             "colorbar": {
              "outlinewidth": 0,
              "ticks": ""
             }
            },
            "type": "scatterpolar"
           }
          ],
          "scatterpolargl": [
           {
            "marker": {
             "colorbar": {
              "outlinewidth": 0,
              "ticks": ""
             }
            },
            "type": "scatterpolargl"
           }
          ],
          "scatterternary": [
           {
            "marker": {
             "colorbar": {
              "outlinewidth": 0,
              "ticks": ""
             }
            },
            "type": "scatterternary"
           }
          ],
          "surface": [
           {
            "colorbar": {
             "outlinewidth": 0,
             "ticks": ""
            },
            "colorscale": [
             [
              0,
              "#0d0887"
             ],
             [
              0.1111111111111111,
              "#46039f"
             ],
             [
              0.2222222222222222,
              "#7201a8"
             ],
             [
              0.3333333333333333,
              "#9c179e"
             ],
             [
              0.4444444444444444,
              "#bd3786"
             ],
             [
              0.5555555555555556,
              "#d8576b"
             ],
             [
              0.6666666666666666,
              "#ed7953"
             ],
             [
              0.7777777777777778,
              "#fb9f3a"
             ],
             [
              0.8888888888888888,
              "#fdca26"
             ],
             [
              1,
              "#f0f921"
             ]
            ],
            "type": "surface"
           }
          ],
          "table": [
           {
            "cells": {
             "fill": {
              "color": "#EBF0F8"
             },
             "line": {
              "color": "white"
             }
            },
            "header": {
             "fill": {
              "color": "#C8D4E3"
             },
             "line": {
              "color": "white"
             }
            },
            "type": "table"
           }
          ]
         },
         "layout": {
          "annotationdefaults": {
           "arrowcolor": "#2a3f5f",
           "arrowhead": 0,
           "arrowwidth": 1
          },
          "coloraxis": {
           "colorbar": {
            "outlinewidth": 0,
            "ticks": ""
           }
          },
          "colorscale": {
           "diverging": [
            [
             0,
             "#8e0152"
            ],
            [
             0.1,
             "#c51b7d"
            ],
            [
             0.2,
             "#de77ae"
            ],
            [
             0.3,
             "#f1b6da"
            ],
            [
             0.4,
             "#fde0ef"
            ],
            [
             0.5,
             "#f7f7f7"
            ],
            [
             0.6,
             "#e6f5d0"
            ],
            [
             0.7,
             "#b8e186"
            ],
            [
             0.8,
             "#7fbc41"
            ],
            [
             0.9,
             "#4d9221"
            ],
            [
             1,
             "#276419"
            ]
           ],
           "sequential": [
            [
             0,
             "#0d0887"
            ],
            [
             0.1111111111111111,
             "#46039f"
            ],
            [
             0.2222222222222222,
             "#7201a8"
            ],
            [
             0.3333333333333333,
             "#9c179e"
            ],
            [
             0.4444444444444444,
             "#bd3786"
            ],
            [
             0.5555555555555556,
             "#d8576b"
            ],
            [
             0.6666666666666666,
             "#ed7953"
            ],
            [
             0.7777777777777778,
             "#fb9f3a"
            ],
            [
             0.8888888888888888,
             "#fdca26"
            ],
            [
             1,
             "#f0f921"
            ]
           ],
           "sequentialminus": [
            [
             0,
             "#0d0887"
            ],
            [
             0.1111111111111111,
             "#46039f"
            ],
            [
             0.2222222222222222,
             "#7201a8"
            ],
            [
             0.3333333333333333,
             "#9c179e"
            ],
            [
             0.4444444444444444,
             "#bd3786"
            ],
            [
             0.5555555555555556,
             "#d8576b"
            ],
            [
             0.6666666666666666,
             "#ed7953"
            ],
            [
             0.7777777777777778,
             "#fb9f3a"
            ],
            [
             0.8888888888888888,
             "#fdca26"
            ],
            [
             1,
             "#f0f921"
            ]
           ]
          },
          "colorway": [
           "#636efa",
           "#EF553B",
           "#00cc96",
           "#ab63fa",
           "#FFA15A",
           "#19d3f3",
           "#FF6692",
           "#B6E880",
           "#FF97FF",
           "#FECB52"
          ],
          "font": {
           "color": "#2a3f5f"
          },
          "geo": {
           "bgcolor": "white",
           "lakecolor": "white",
           "landcolor": "#E5ECF6",
           "showlakes": true,
           "showland": true,
           "subunitcolor": "white"
          },
          "hoverlabel": {
           "align": "left"
          },
          "hovermode": "closest",
          "mapbox": {
           "style": "light"
          },
          "paper_bgcolor": "white",
          "plot_bgcolor": "#E5ECF6",
          "polar": {
           "angularaxis": {
            "gridcolor": "white",
            "linecolor": "white",
            "ticks": ""
           },
           "bgcolor": "#E5ECF6",
           "radialaxis": {
            "gridcolor": "white",
            "linecolor": "white",
            "ticks": ""
           }
          },
          "scene": {
           "xaxis": {
            "backgroundcolor": "#E5ECF6",
            "gridcolor": "white",
            "gridwidth": 2,
            "linecolor": "white",
            "showbackground": true,
            "ticks": "",
            "zerolinecolor": "white"
           },
           "yaxis": {
            "backgroundcolor": "#E5ECF6",
            "gridcolor": "white",
            "gridwidth": 2,
            "linecolor": "white",
            "showbackground": true,
            "ticks": "",
            "zerolinecolor": "white"
           },
           "zaxis": {
            "backgroundcolor": "#E5ECF6",
            "gridcolor": "white",
            "gridwidth": 2,
            "linecolor": "white",
            "showbackground": true,
            "ticks": "",
            "zerolinecolor": "white"
           }
          },
          "shapedefaults": {
           "line": {
            "color": "#2a3f5f"
           }
          },
          "ternary": {
           "aaxis": {
            "gridcolor": "white",
            "linecolor": "white",
            "ticks": ""
           },
           "baxis": {
            "gridcolor": "white",
            "linecolor": "white",
            "ticks": ""
           },
           "bgcolor": "#E5ECF6",
           "caxis": {
            "gridcolor": "white",
            "linecolor": "white",
            "ticks": ""
           }
          },
          "title": {
           "x": 0.05
          },
          "xaxis": {
           "automargin": true,
           "gridcolor": "white",
           "linecolor": "white",
           "ticks": "",
           "title": {
            "standoff": 15
           },
           "zerolinecolor": "white",
           "zerolinewidth": 2
          },
          "yaxis": {
           "automargin": true,
           "gridcolor": "white",
           "linecolor": "white",
           "ticks": "",
           "title": {
            "standoff": 15
           },
           "zerolinecolor": "white",
           "zerolinewidth": 2
          }
         }
        },
        "title": {
         "text": "APRU, ARPPU и CR пользователей групп А и В",
         "x": 0.5
        },
        "xaxis": {
         "anchor": "y",
         "domain": [
          0,
          0.2888888888888889
         ]
        },
        "xaxis2": {
         "anchor": "y2",
         "domain": [
          0.35555555555555557,
          0.6444444444444445
         ]
        },
        "xaxis3": {
         "anchor": "y3",
         "domain": [
          0.7111111111111111,
          1
         ]
        },
        "yaxis": {
         "anchor": "x",
         "domain": [
          0,
          1
         ]
        },
        "yaxis2": {
         "anchor": "x2",
         "domain": [
          0,
          1
         ]
        },
        "yaxis3": {
         "anchor": "x3",
         "domain": [
          0,
          1
         ]
        }
       }
      },
      "text/html": [
       "<div>\n",
       "        \n",
       "        \n",
       "            <div id=\"45f2c40d-4734-4b4e-a528-a44ec7d677ec\" class=\"plotly-graph-div\" style=\"height:525px; width:100%;\"></div>\n",
       "            <script type=\"text/javascript\">\n",
       "                require([\"plotly\"], function(Plotly) {\n",
       "                    window.PLOTLYENV=window.PLOTLYENV || {};\n",
       "                    \n",
       "                if (document.getElementById(\"45f2c40d-4734-4b4e-a528-a44ec7d677ec\")) {\n",
       "                    Plotly.newPlot(\n",
       "                        '45f2c40d-4734-4b4e-a528-a44ec7d677ec',\n",
       "                        [{\"alignmentgroup\": \"True\", \"hovertemplate\": \"grp=%{x}<br>ARPU=%{y}<extra></extra>\", \"legendgroup\": \"\", \"marker\": {\"color\": \"#636efa\"}, \"name\": \"\", \"offsetgroup\": \"\", \"orientation\": \"v\", \"showlegend\": false, \"textposition\": \"auto\", \"type\": \"bar\", \"x\": [\"A\", \"B\"], \"xaxis\": \"x\", \"y\": [6.268018784455183, 8.036170592655681], \"yaxis\": \"y\"}, {\"alignmentgroup\": \"True\", \"hovertemplate\": \"grp=%{x}<br>ARPPU=%{y}<extra></extra>\", \"legendgroup\": \"\", \"marker\": {\"color\": \"#636efa\"}, \"name\": \"\", \"offsetgroup\": \"\", \"orientation\": \"v\", \"showlegend\": false, \"textposition\": \"auto\", \"type\": \"bar\", \"x\": [\"A\", \"B\"], \"xaxis\": \"x2\", \"y\": [860.7102803738318, 1108.824893087558], \"yaxis\": \"y2\"}, {\"alignmentgroup\": \"True\", \"hovertemplate\": \"grp=%{x}<br>CR=%{y}<extra></extra>\", \"legendgroup\": \"\", \"marker\": {\"color\": \"blue\"}, \"name\": \"\", \"offsetgroup\": \"\", \"orientation\": \"v\", \"showlegend\": false, \"textposition\": \"auto\", \"type\": \"bar\", \"x\": [\"A\", \"B\"], \"xaxis\": \"x3\", \"y\": [0.7282379364323147, 0.7247465891822387], \"yaxis\": \"y3\"}],\n",
       "                        {\"annotations\": [{\"font\": {\"size\": 16}, \"showarrow\": false, \"text\": \"ARPU\", \"x\": 0.14444444444444446, \"xanchor\": \"center\", \"xref\": \"paper\", \"y\": 1.0, \"yanchor\": \"bottom\", \"yref\": \"paper\"}, {\"font\": {\"size\": 16}, \"showarrow\": false, \"text\": \"ARPPU\", \"x\": 0.5, \"xanchor\": \"center\", \"xref\": \"paper\", \"y\": 1.0, \"yanchor\": \"bottom\", \"yref\": \"paper\"}, {\"font\": {\"size\": 16}, \"showarrow\": false, \"text\": \"CR\", \"x\": 0.8555555555555556, \"xanchor\": \"center\", \"xref\": \"paper\", \"y\": 1.0, \"yanchor\": \"bottom\", \"yref\": \"paper\"}], \"paper_bgcolor\": \"white\", \"plot_bgcolor\": \"white\", \"showlegend\": false, \"template\": {\"data\": {\"bar\": [{\"error_x\": {\"color\": \"#2a3f5f\"}, \"error_y\": {\"color\": \"#2a3f5f\"}, \"marker\": {\"line\": {\"color\": \"#E5ECF6\", \"width\": 0.5}}, \"type\": \"bar\"}], \"barpolar\": [{\"marker\": {\"line\": {\"color\": \"#E5ECF6\", \"width\": 0.5}}, \"type\": \"barpolar\"}], \"carpet\": [{\"aaxis\": {\"endlinecolor\": \"#2a3f5f\", \"gridcolor\": \"white\", \"linecolor\": \"white\", \"minorgridcolor\": \"white\", \"startlinecolor\": \"#2a3f5f\"}, \"baxis\": {\"endlinecolor\": \"#2a3f5f\", \"gridcolor\": \"white\", \"linecolor\": \"white\", \"minorgridcolor\": \"white\", \"startlinecolor\": \"#2a3f5f\"}, \"type\": \"carpet\"}], \"choropleth\": [{\"colorbar\": {\"outlinewidth\": 0, \"ticks\": \"\"}, \"type\": \"choropleth\"}], \"contour\": [{\"colorbar\": {\"outlinewidth\": 0, \"ticks\": \"\"}, \"colorscale\": [[0.0, \"#0d0887\"], [0.1111111111111111, \"#46039f\"], [0.2222222222222222, \"#7201a8\"], [0.3333333333333333, \"#9c179e\"], [0.4444444444444444, \"#bd3786\"], [0.5555555555555556, \"#d8576b\"], [0.6666666666666666, \"#ed7953\"], [0.7777777777777778, \"#fb9f3a\"], [0.8888888888888888, \"#fdca26\"], [1.0, \"#f0f921\"]], \"type\": \"contour\"}], \"contourcarpet\": [{\"colorbar\": {\"outlinewidth\": 0, \"ticks\": \"\"}, \"type\": \"contourcarpet\"}], \"heatmap\": [{\"colorbar\": {\"outlinewidth\": 0, \"ticks\": \"\"}, \"colorscale\": [[0.0, \"#0d0887\"], [0.1111111111111111, \"#46039f\"], [0.2222222222222222, \"#7201a8\"], [0.3333333333333333, \"#9c179e\"], [0.4444444444444444, \"#bd3786\"], [0.5555555555555556, \"#d8576b\"], [0.6666666666666666, \"#ed7953\"], [0.7777777777777778, \"#fb9f3a\"], [0.8888888888888888, \"#fdca26\"], [1.0, \"#f0f921\"]], \"type\": \"heatmap\"}], \"heatmapgl\": [{\"colorbar\": {\"outlinewidth\": 0, \"ticks\": \"\"}, \"colorscale\": [[0.0, \"#0d0887\"], [0.1111111111111111, \"#46039f\"], [0.2222222222222222, \"#7201a8\"], [0.3333333333333333, \"#9c179e\"], [0.4444444444444444, \"#bd3786\"], [0.5555555555555556, \"#d8576b\"], [0.6666666666666666, \"#ed7953\"], [0.7777777777777778, \"#fb9f3a\"], [0.8888888888888888, \"#fdca26\"], [1.0, \"#f0f921\"]], \"type\": \"heatmapgl\"}], \"histogram\": [{\"marker\": {\"colorbar\": {\"outlinewidth\": 0, \"ticks\": \"\"}}, \"type\": \"histogram\"}], \"histogram2d\": [{\"colorbar\": {\"outlinewidth\": 0, \"ticks\": \"\"}, \"colorscale\": [[0.0, \"#0d0887\"], [0.1111111111111111, \"#46039f\"], [0.2222222222222222, \"#7201a8\"], [0.3333333333333333, \"#9c179e\"], [0.4444444444444444, \"#bd3786\"], [0.5555555555555556, \"#d8576b\"], [0.6666666666666666, \"#ed7953\"], [0.7777777777777778, \"#fb9f3a\"], [0.8888888888888888, \"#fdca26\"], [1.0, \"#f0f921\"]], \"type\": \"histogram2d\"}], \"histogram2dcontour\": [{\"colorbar\": {\"outlinewidth\": 0, \"ticks\": \"\"}, \"colorscale\": [[0.0, \"#0d0887\"], [0.1111111111111111, \"#46039f\"], [0.2222222222222222, \"#7201a8\"], [0.3333333333333333, \"#9c179e\"], [0.4444444444444444, \"#bd3786\"], [0.5555555555555556, \"#d8576b\"], [0.6666666666666666, \"#ed7953\"], [0.7777777777777778, \"#fb9f3a\"], [0.8888888888888888, \"#fdca26\"], [1.0, \"#f0f921\"]], \"type\": \"histogram2dcontour\"}], \"mesh3d\": [{\"colorbar\": {\"outlinewidth\": 0, \"ticks\": \"\"}, \"type\": \"mesh3d\"}], \"parcoords\": [{\"line\": {\"colorbar\": {\"outlinewidth\": 0, \"ticks\": \"\"}}, \"type\": \"parcoords\"}], \"pie\": [{\"automargin\": true, \"type\": \"pie\"}], \"scatter\": [{\"marker\": {\"colorbar\": {\"outlinewidth\": 0, \"ticks\": \"\"}}, \"type\": \"scatter\"}], \"scatter3d\": [{\"line\": {\"colorbar\": {\"outlinewidth\": 0, \"ticks\": \"\"}}, \"marker\": {\"colorbar\": {\"outlinewidth\": 0, \"ticks\": \"\"}}, \"type\": \"scatter3d\"}], \"scattercarpet\": [{\"marker\": {\"colorbar\": {\"outlinewidth\": 0, \"ticks\": \"\"}}, \"type\": \"scattercarpet\"}], \"scattergeo\": [{\"marker\": {\"colorbar\": {\"outlinewidth\": 0, \"ticks\": \"\"}}, \"type\": \"scattergeo\"}], \"scattergl\": [{\"marker\": {\"colorbar\": {\"outlinewidth\": 0, \"ticks\": \"\"}}, \"type\": \"scattergl\"}], \"scattermapbox\": [{\"marker\": {\"colorbar\": {\"outlinewidth\": 0, \"ticks\": \"\"}}, \"type\": \"scattermapbox\"}], \"scatterpolar\": [{\"marker\": {\"colorbar\": {\"outlinewidth\": 0, \"ticks\": \"\"}}, \"type\": \"scatterpolar\"}], \"scatterpolargl\": [{\"marker\": {\"colorbar\": {\"outlinewidth\": 0, \"ticks\": \"\"}}, \"type\": \"scatterpolargl\"}], \"scatterternary\": [{\"marker\": {\"colorbar\": {\"outlinewidth\": 0, \"ticks\": \"\"}}, \"type\": \"scatterternary\"}], \"surface\": [{\"colorbar\": {\"outlinewidth\": 0, \"ticks\": \"\"}, \"colorscale\": [[0.0, \"#0d0887\"], [0.1111111111111111, \"#46039f\"], [0.2222222222222222, \"#7201a8\"], [0.3333333333333333, \"#9c179e\"], [0.4444444444444444, \"#bd3786\"], [0.5555555555555556, \"#d8576b\"], [0.6666666666666666, \"#ed7953\"], [0.7777777777777778, \"#fb9f3a\"], [0.8888888888888888, \"#fdca26\"], [1.0, \"#f0f921\"]], \"type\": \"surface\"}], \"table\": [{\"cells\": {\"fill\": {\"color\": \"#EBF0F8\"}, \"line\": {\"color\": \"white\"}}, \"header\": {\"fill\": {\"color\": \"#C8D4E3\"}, \"line\": {\"color\": \"white\"}}, \"type\": \"table\"}]}, \"layout\": {\"annotationdefaults\": {\"arrowcolor\": \"#2a3f5f\", \"arrowhead\": 0, \"arrowwidth\": 1}, \"coloraxis\": {\"colorbar\": {\"outlinewidth\": 0, \"ticks\": \"\"}}, \"colorscale\": {\"diverging\": [[0, \"#8e0152\"], [0.1, \"#c51b7d\"], [0.2, \"#de77ae\"], [0.3, \"#f1b6da\"], [0.4, \"#fde0ef\"], [0.5, \"#f7f7f7\"], [0.6, \"#e6f5d0\"], [0.7, \"#b8e186\"], [0.8, \"#7fbc41\"], [0.9, \"#4d9221\"], [1, \"#276419\"]], \"sequential\": [[0.0, \"#0d0887\"], [0.1111111111111111, \"#46039f\"], [0.2222222222222222, \"#7201a8\"], [0.3333333333333333, \"#9c179e\"], [0.4444444444444444, \"#bd3786\"], [0.5555555555555556, \"#d8576b\"], [0.6666666666666666, \"#ed7953\"], [0.7777777777777778, \"#fb9f3a\"], [0.8888888888888888, \"#fdca26\"], [1.0, \"#f0f921\"]], \"sequentialminus\": [[0.0, \"#0d0887\"], [0.1111111111111111, \"#46039f\"], [0.2222222222222222, \"#7201a8\"], [0.3333333333333333, \"#9c179e\"], [0.4444444444444444, \"#bd3786\"], [0.5555555555555556, \"#d8576b\"], [0.6666666666666666, \"#ed7953\"], [0.7777777777777778, \"#fb9f3a\"], [0.8888888888888888, \"#fdca26\"], [1.0, \"#f0f921\"]]}, \"colorway\": [\"#636efa\", \"#EF553B\", \"#00cc96\", \"#ab63fa\", \"#FFA15A\", \"#19d3f3\", \"#FF6692\", \"#B6E880\", \"#FF97FF\", \"#FECB52\"], \"font\": {\"color\": \"#2a3f5f\"}, \"geo\": {\"bgcolor\": \"white\", \"lakecolor\": \"white\", \"landcolor\": \"#E5ECF6\", \"showlakes\": true, \"showland\": true, \"subunitcolor\": \"white\"}, \"hoverlabel\": {\"align\": \"left\"}, \"hovermode\": \"closest\", \"mapbox\": {\"style\": \"light\"}, \"paper_bgcolor\": \"white\", \"plot_bgcolor\": \"#E5ECF6\", \"polar\": {\"angularaxis\": {\"gridcolor\": \"white\", \"linecolor\": \"white\", \"ticks\": \"\"}, \"bgcolor\": \"#E5ECF6\", \"radialaxis\": {\"gridcolor\": \"white\", \"linecolor\": \"white\", \"ticks\": \"\"}}, \"scene\": {\"xaxis\": {\"backgroundcolor\": \"#E5ECF6\", \"gridcolor\": \"white\", \"gridwidth\": 2, \"linecolor\": \"white\", \"showbackground\": true, \"ticks\": \"\", \"zerolinecolor\": \"white\"}, \"yaxis\": {\"backgroundcolor\": \"#E5ECF6\", \"gridcolor\": \"white\", \"gridwidth\": 2, \"linecolor\": \"white\", \"showbackground\": true, \"ticks\": \"\", \"zerolinecolor\": \"white\"}, \"zaxis\": {\"backgroundcolor\": \"#E5ECF6\", \"gridcolor\": \"white\", \"gridwidth\": 2, \"linecolor\": \"white\", \"showbackground\": true, \"ticks\": \"\", \"zerolinecolor\": \"white\"}}, \"shapedefaults\": {\"line\": {\"color\": \"#2a3f5f\"}}, \"ternary\": {\"aaxis\": {\"gridcolor\": \"white\", \"linecolor\": \"white\", \"ticks\": \"\"}, \"baxis\": {\"gridcolor\": \"white\", \"linecolor\": \"white\", \"ticks\": \"\"}, \"bgcolor\": \"#E5ECF6\", \"caxis\": {\"gridcolor\": \"white\", \"linecolor\": \"white\", \"ticks\": \"\"}}, \"title\": {\"x\": 0.05}, \"xaxis\": {\"automargin\": true, \"gridcolor\": \"white\", \"linecolor\": \"white\", \"ticks\": \"\", \"title\": {\"standoff\": 15}, \"zerolinecolor\": \"white\", \"zerolinewidth\": 2}, \"yaxis\": {\"automargin\": true, \"gridcolor\": \"white\", \"linecolor\": \"white\", \"ticks\": \"\", \"title\": {\"standoff\": 15}, \"zerolinecolor\": \"white\", \"zerolinewidth\": 2}}}, \"title\": {\"text\": \"APRU, ARPPU \\u0438 CR \\u043f\\u043e\\u043b\\u044c\\u0437\\u043e\\u0432\\u0430\\u0442\\u0435\\u043b\\u0435\\u0439 \\u0433\\u0440\\u0443\\u043f\\u043f \\u0410 \\u0438 \\u0412\", \"x\": 0.5}, \"xaxis\": {\"anchor\": \"y\", \"domain\": [0.0, 0.2888888888888889]}, \"xaxis2\": {\"anchor\": \"y2\", \"domain\": [0.35555555555555557, 0.6444444444444445]}, \"xaxis3\": {\"anchor\": \"y3\", \"domain\": [0.7111111111111111, 1.0]}, \"yaxis\": {\"anchor\": \"x\", \"domain\": [0.0, 1.0]}, \"yaxis2\": {\"anchor\": \"x2\", \"domain\": [0.0, 1.0]}, \"yaxis3\": {\"anchor\": \"x3\", \"domain\": [0.0, 1.0]}},\n",
       "                        {\"responsive\": true}\n",
       "                    ).then(function(){\n",
       "                            \n",
       "var gd = document.getElementById('45f2c40d-4734-4b4e-a528-a44ec7d677ec');\n",
       "var x = new MutationObserver(function (mutations, observer) {{\n",
       "        var display = window.getComputedStyle(gd).display;\n",
       "        if (!display || display === 'none') {{\n",
       "            console.log([gd, 'removed!']);\n",
       "            Plotly.purge(gd);\n",
       "            observer.disconnect();\n",
       "        }}\n",
       "}});\n",
       "\n",
       "// Listen for the removal of the full notebook cells\n",
       "var notebookContainer = gd.closest('#notebook-container');\n",
       "if (notebookContainer) {{\n",
       "    x.observe(notebookContainer, {childList: true});\n",
       "}}\n",
       "\n",
       "// Listen for the clearing of the current output cell\n",
       "var outputEl = gd.closest('.output');\n",
       "if (outputEl) {{\n",
       "    x.observe(outputEl, {childList: true});\n",
       "}}\n",
       "\n",
       "                        })\n",
       "                };\n",
       "                });\n",
       "            </script>\n",
       "        </div>"
      ]
     },
     "metadata": {},
     "output_type": "display_data"
    }
   ],
   "source": [
    "task_3_visual(task_3(groups, active, checks))"
   ]
  }
 ],
 "metadata": {
  "kernelspec": {
   "display_name": "Python 3",
   "language": "python",
   "name": "python3"
  },
  "language_info": {
   "codemirror_mode": {
    "name": "ipython",
    "version": 3
   },
   "file_extension": ".py",
   "mimetype": "text/x-python",
   "name": "python",
   "nbconvert_exporter": "python",
   "pygments_lexer": "ipython3",
   "version": "3.7.3"
  }
 },
 "nbformat": 4,
 "nbformat_minor": 4
}
