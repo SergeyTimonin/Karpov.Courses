{
 "cells": [
  {
   "cell_type": "code",
   "execution_count": 1,
   "id": "8fabac04-df81-4a38-892b-6ba5e418f905",
   "metadata": {},
   "outputs": [],
   "source": [
    "import pandas as pd\n",
    "import numpy as np\n",
    "import seaborn as sns\n",
    "import scipy "
   ]
  },
  {
   "cell_type": "code",
   "execution_count": 2,
   "id": "b0af1157-7e2e-4381-b4ab-37017ccb459d",
   "metadata": {},
   "outputs": [],
   "source": [
    "convers =pd.read_csv('conversion.csv', sep = ',')  # товарные позиции, входящие в заказы"
   ]
  },
  {
   "cell_type": "markdown",
   "id": "bec6f327-0779-490e-ac9f-870c182eb144",
   "metadata": {},
   "source": [
    "### Задание 2\n",
    "Загрузите данные, проверьте число наблюдений и столбцов, типы данных, наличие пропущенных значений, какие уникальные значения встречаются.\n",
    "\n",
    "Сколько уникальных рекламных кампаний было проведено? \n",
    "\n",
    "Note: использовать идентификатор кампании в базе Х – xyz_campaign_id."
   ]
  },
  {
   "cell_type": "code",
   "execution_count": 3,
   "id": "629c9117-3185-4dd3-99de-25eaa11d5e34",
   "metadata": {},
   "outputs": [
    {
     "data": {
      "text/plain": [
       "xyz_campaign_id    3\n",
       "dtype: int64"
      ]
     },
     "execution_count": 3,
     "metadata": {},
     "output_type": "execute_result"
    }
   ],
   "source": [
    "convers.agg({'xyz_campaign_id':'nunique'})"
   ]
  },
  {
   "cell_type": "markdown",
   "id": "84e53144-4986-4d8a-b8ff-b8221c7a6112",
   "metadata": {},
   "source": [
    "### Задание 3\n",
    "Посмотрите на данные и их описание. Соотнесите названия переменных с соответствующим типом данных."
   ]
  },
  {
   "cell_type": "code",
   "execution_count": 4,
   "id": "2f5e0994-5117-40d6-abd9-d88a2205a21b",
   "metadata": {},
   "outputs": [
    {
     "data": {
      "text/html": [
       "<div>\n",
       "<style scoped>\n",
       "    .dataframe tbody tr th:only-of-type {\n",
       "        vertical-align: middle;\n",
       "    }\n",
       "\n",
       "    .dataframe tbody tr th {\n",
       "        vertical-align: top;\n",
       "    }\n",
       "\n",
       "    .dataframe thead th {\n",
       "        text-align: right;\n",
       "    }\n",
       "</style>\n",
       "<table border=\"1\" class=\"dataframe\">\n",
       "  <thead>\n",
       "    <tr style=\"text-align: right;\">\n",
       "      <th></th>\n",
       "      <th>fb_campaign_id</th>\n",
       "      <th>Impressions</th>\n",
       "    </tr>\n",
       "  </thead>\n",
       "  <tbody>\n",
       "    <tr>\n",
       "      <th>0</th>\n",
       "      <td>103916</td>\n",
       "      <td>8.902456</td>\n",
       "    </tr>\n",
       "    <tr>\n",
       "      <th>1</th>\n",
       "      <td>103917</td>\n",
       "      <td>9.790375</td>\n",
       "    </tr>\n",
       "  </tbody>\n",
       "</table>\n",
       "</div>"
      ],
      "text/plain": [
       "   fb_campaign_id  Impressions\n",
       "0          103916     8.902456\n",
       "1          103917     9.790375"
      ]
     },
     "execution_count": 4,
     "metadata": {},
     "output_type": "execute_result"
    }
   ],
   "source": [
    "convers_imp=np.log(convers.groupby('fb_campaign_id').Impressions.sum()).reset_index()\n",
    "convers_imp.head(2)"
   ]
  },
  {
   "cell_type": "markdown",
   "id": "0d1f866d-d55f-47f8-895f-1f0b76136675",
   "metadata": {},
   "source": [
    "### Задание 4\n",
    "Постройте график распределения числа показов (Impressions – сколько раз пользователи увидели данное объявление) для каждой рекламной кампании в Facebook, прологарифмировав значения. Выберите верные утверждения:"
   ]
  },
  {
   "cell_type": "code",
   "execution_count": 5,
   "id": "a480a6bc-bac0-45c3-a493-ccedce22d79d",
   "metadata": {},
   "outputs": [
    {
     "data": {
      "text/plain": [
       "<seaborn.axisgrid.FacetGrid at 0x7f89e7b8edf0>"
      ]
     },
     "execution_count": 5,
     "metadata": {},
     "output_type": "execute_result"
    },
    {
     "data": {
      "image/png": "[encoded data removed]",
      "text/plain": [
       "<Figure size 360x360 with 1 Axes>"
      ]
     },
     "metadata": {
      "needs_background": "light"
     },
     "output_type": "display_data"
    }
   ],
   "source": [
    "sns.displot(convers_imp.Impressions, kde = False)"
   ]
  },
  {
   "cell_type": "markdown",
   "id": "e8045e5b-44cd-4145-8975-acd0c1c76338",
   "metadata": {},
   "source": [
    "### Задание 5\n",
    "Теперь посчитаем ещё несколько полезных метрик. Первая – CTR (click-through rate), которая показывает кликабельность, т.е. отношение числа кликов к количеству показов.\n",
    "\n",
    "CTR= clicks / impressions\n",
    "\n",
    "\n",
    "Создайте новую колонку, затем посмотрите на описательные статистики. В качестве ответа укажите ad_id объявления с наибольшим CTR."
   ]
  },
  {
   "cell_type": "code",
   "execution_count": 6,
   "id": "4c9b5df0-0c81-4472-8fac-eaafbac7100f",
   "metadata": {},
   "outputs": [],
   "source": [
    "convers_5=convers"
   ]
  },
  {
   "cell_type": "code",
   "execution_count": 7,
   "id": "77c64565-1049-4482-9dd2-95bf48201356",
   "metadata": {},
   "outputs": [
    {
     "data": {
      "text/html": [
       "<div>\n",
       "<style scoped>\n",
       "    .dataframe tbody tr th:only-of-type {\n",
       "        vertical-align: middle;\n",
       "    }\n",
       "\n",
       "    .dataframe tbody tr th {\n",
       "        vertical-align: top;\n",
       "    }\n",
       "\n",
       "    .dataframe thead th {\n",
       "        text-align: right;\n",
       "    }\n",
       "</style>\n",
       "<table border=\"1\" class=\"dataframe\">\n",
       "  <thead>\n",
       "    <tr style=\"text-align: right;\">\n",
       "      <th></th>\n",
       "      <th>ad_id</th>\n",
       "      <th>xyz_campaign_id</th>\n",
       "      <th>fb_campaign_id</th>\n",
       "      <th>age</th>\n",
       "      <th>gender</th>\n",
       "      <th>interest</th>\n",
       "      <th>Impressions</th>\n",
       "      <th>Clicks</th>\n",
       "      <th>Spent</th>\n",
       "      <th>Total_Conversion</th>\n",
       "      <th>Approved_Conversion</th>\n",
       "      <th>CTR</th>\n",
       "    </tr>\n",
       "  </thead>\n",
       "  <tbody>\n",
       "    <tr>\n",
       "      <th>150</th>\n",
       "      <td>738637</td>\n",
       "      <td>936</td>\n",
       "      <td>109857</td>\n",
       "      <td>45-49</td>\n",
       "      <td>F</td>\n",
       "      <td>24</td>\n",
       "      <td>944</td>\n",
       "      <td>1</td>\n",
       "      <td>1.42</td>\n",
       "      <td>1</td>\n",
       "      <td>0</td>\n",
       "      <td>0.105932</td>\n",
       "    </tr>\n",
       "  </tbody>\n",
       "</table>\n",
       "</div>"
      ],
      "text/plain": [
       "      ad_id  xyz_campaign_id  fb_campaign_id    age gender  interest  \\\n",
       "150  738637              936          109857  45-49      F        24   \n",
       "\n",
       "     Impressions  Clicks  Spent  Total_Conversion  Approved_Conversion  \\\n",
       "150          944       1   1.42                 1                    0   \n",
       "\n",
       "          CTR  \n",
       "150  0.105932  "
      ]
     },
     "execution_count": 7,
     "metadata": {},
     "output_type": "execute_result"
    }
   ],
   "source": [
    "convers_5['CTR'] = (convers_5.Clicks / convers_5.Impressions)*100\n",
    "convers_5.sort_values('CTR', ascending = False).head(1)"
   ]
  },
  {
   "cell_type": "markdown",
   "id": "4c3a46bb-6bfc-432b-b480-a8431cc063c5",
   "metadata": {},
   "source": [
    "### Задание 6\n",
    "Визуализируйте CTR с разбивкой по номеру рекламной кампании (xyz_campaign_id). Какому графику соответствует распределение CTR кампании 916?"
   ]
  },
  {
   "cell_type": "code",
   "execution_count": 8,
   "id": "d2729fd4-9ae6-49ed-bad3-ccba94de45eb",
   "metadata": {},
   "outputs": [],
   "source": [
    "convers_6=convers_5"
   ]
  },
  {
   "cell_type": "code",
   "execution_count": 9,
   "id": "99d870ed-300d-408c-949e-663f83f37685",
   "metadata": {},
   "outputs": [],
   "source": [
    "convers_6_1=convers_6.query(\"xyz_campaign_id == 916\")[['CTR']]"
   ]
  },
  {
   "cell_type": "code",
   "execution_count": 10,
   "id": "6a130944-d170-4997-a80a-5069d886d4cd",
   "metadata": {},
   "outputs": [
    {
     "data": {
      "text/plain": [
       "<seaborn.axisgrid.FacetGrid at 0x7f89e5523b20>"
      ]
     },
     "execution_count": 10,
     "metadata": {},
     "output_type": "execute_result"
    },
    {
     "data": {
      "image/png": "[encoded data removed]",
      "text/plain": [
       "<Figure size 577.875x500 with 1 Axes>"
      ]
     },
     "metadata": {},
     "output_type": "display_data"
    }
   ],
   "source": [
    "sns.displot(convers_6_1, kde = False)"
   ]
  },
  {
   "cell_type": "markdown",
   "id": "2122dd17-2b49-4a3c-9a46-661d64ef57e6",
   "metadata": {},
   "source": [
    "### Задание 7\n",
    "CPC (cost-per-click) – стоимость за клик пользователя по объявлению. Рассчитывается путём деления суммы потраченных денег на общее число кликов:\n",
    "\n",
    "CPC= spent / clicks\n",
    "\n",
    " \n",
    "Выведите описательные статистики для новой переменной, посмотрите на форму распределения. В ответе укажите межквартильный размах, округленный до двух знаков после точки.\n",
    "\n",
    "Обратите внимание, что в столбце могут встретиться NaN. Если вы используете функцию iqr из scipy, то следует указать аргумент nan_policy='omit', чтобы их проигнорировать. При построении графика необходимо использовать метод .dropna().\n",
    "\n",
    "Если нужна помощь, напишите сюда"
   ]
  },
  {
   "cell_type": "code",
   "execution_count": 11,
   "id": "a0dab777-3dac-4aea-ba72-c3d470e55adf",
   "metadata": {},
   "outputs": [],
   "source": [
    "convers7= convers"
   ]
  },
  {
   "cell_type": "code",
   "execution_count": 12,
   "id": "05761673-a705-45e0-a875-5d65ba03cc9e",
   "metadata": {},
   "outputs": [
    {
     "data": {
      "text/html": [
       "<div>\n",
       "<style scoped>\n",
       "    .dataframe tbody tr th:only-of-type {\n",
       "        vertical-align: middle;\n",
       "    }\n",
       "\n",
       "    .dataframe tbody tr th {\n",
       "        vertical-align: top;\n",
       "    }\n",
       "\n",
       "    .dataframe thead th {\n",
       "        text-align: right;\n",
       "    }\n",
       "</style>\n",
       "<table border=\"1\" class=\"dataframe\">\n",
       "  <thead>\n",
       "    <tr style=\"text-align: right;\">\n",
       "      <th></th>\n",
       "      <th>ad_id</th>\n",
       "      <th>xyz_campaign_id</th>\n",
       "      <th>fb_campaign_id</th>\n",
       "      <th>age</th>\n",
       "      <th>gender</th>\n",
       "      <th>interest</th>\n",
       "      <th>Impressions</th>\n",
       "      <th>Clicks</th>\n",
       "      <th>Spent</th>\n",
       "      <th>Total_Conversion</th>\n",
       "      <th>Approved_Conversion</th>\n",
       "      <th>CTR</th>\n",
       "      <th>CPC</th>\n",
       "    </tr>\n",
       "  </thead>\n",
       "  <tbody>\n",
       "    <tr>\n",
       "      <th>0</th>\n",
       "      <td>708746</td>\n",
       "      <td>916</td>\n",
       "      <td>103916</td>\n",
       "      <td>30-34</td>\n",
       "      <td>M</td>\n",
       "      <td>15</td>\n",
       "      <td>7350</td>\n",
       "      <td>1</td>\n",
       "      <td>1.43</td>\n",
       "      <td>2</td>\n",
       "      <td>1</td>\n",
       "      <td>0.013605</td>\n",
       "      <td>1.43</td>\n",
       "    </tr>\n",
       "    <tr>\n",
       "      <th>1</th>\n",
       "      <td>708749</td>\n",
       "      <td>916</td>\n",
       "      <td>103917</td>\n",
       "      <td>30-34</td>\n",
       "      <td>M</td>\n",
       "      <td>16</td>\n",
       "      <td>17861</td>\n",
       "      <td>2</td>\n",
       "      <td>1.82</td>\n",
       "      <td>2</td>\n",
       "      <td>0</td>\n",
       "      <td>0.011198</td>\n",
       "      <td>0.91</td>\n",
       "    </tr>\n",
       "  </tbody>\n",
       "</table>\n",
       "</div>"
      ],
      "text/plain": [
       "    ad_id  xyz_campaign_id  fb_campaign_id    age gender  interest  \\\n",
       "0  708746              916          103916  30-34      M        15   \n",
       "1  708749              916          103917  30-34      M        16   \n",
       "\n",
       "   Impressions  Clicks  Spent  Total_Conversion  Approved_Conversion  \\\n",
       "0         7350       1   1.43                 2                    1   \n",
       "1        17861       2   1.82                 2                    0   \n",
       "\n",
       "        CTR   CPC  \n",
       "0  0.013605  1.43  \n",
       "1  0.011198  0.91  "
      ]
     },
     "execution_count": 12,
     "metadata": {},
     "output_type": "execute_result"
    }
   ],
   "source": [
    "convers7['CPC'] = (convers7.Spent / convers7.Clicks)\n",
    "convers7.head(2)"
   ]
  },
  {
   "cell_type": "code",
   "execution_count": 13,
   "id": "082cca1a-6fb7-4fef-97c1-ea06e845a7b9",
   "metadata": {},
   "outputs": [
    {
     "data": {
      "text/plain": [
       "0.25"
      ]
     },
     "execution_count": 13,
     "metadata": {},
     "output_type": "execute_result"
    }
   ],
   "source": [
    "scipy.stats.iqr(convers7.CPC, nan_policy='omit').round(2)"
   ]
  },
  {
   "cell_type": "markdown",
   "id": "434b8612-0527-495d-a1bb-1906366aaeea",
   "metadata": {},
   "source": [
    "### Задание 8\n",
    "Визуализируйте CPC с разбивкой по полу пользователей, которым были показаны объявления. Какой график получился?"
   ]
  },
  {
   "cell_type": "code",
   "execution_count": 14,
   "id": "d5121aa1-17b4-4649-b39e-ad58b1d5d1b7",
   "metadata": {},
   "outputs": [
    {
     "data": {
      "text/html": [
       "<div>\n",
       "<style scoped>\n",
       "    .dataframe tbody tr th:only-of-type {\n",
       "        vertical-align: middle;\n",
       "    }\n",
       "\n",
       "    .dataframe tbody tr th {\n",
       "        vertical-align: top;\n",
       "    }\n",
       "\n",
       "    .dataframe thead th {\n",
       "        text-align: right;\n",
       "    }\n",
       "</style>\n",
       "<table border=\"1\" class=\"dataframe\">\n",
       "  <thead>\n",
       "    <tr style=\"text-align: right;\">\n",
       "      <th></th>\n",
       "      <th>ad_id</th>\n",
       "      <th>xyz_campaign_id</th>\n",
       "      <th>fb_campaign_id</th>\n",
       "      <th>age</th>\n",
       "      <th>gender</th>\n",
       "      <th>interest</th>\n",
       "      <th>Impressions</th>\n",
       "      <th>Clicks</th>\n",
       "      <th>Spent</th>\n",
       "      <th>Total_Conversion</th>\n",
       "      <th>Approved_Conversion</th>\n",
       "      <th>CTR</th>\n",
       "      <th>CPC</th>\n",
       "    </tr>\n",
       "  </thead>\n",
       "  <tbody>\n",
       "    <tr>\n",
       "      <th>0</th>\n",
       "      <td>708746</td>\n",
       "      <td>916</td>\n",
       "      <td>103916</td>\n",
       "      <td>30-34</td>\n",
       "      <td>M</td>\n",
       "      <td>15</td>\n",
       "      <td>7350</td>\n",
       "      <td>1</td>\n",
       "      <td>1.43</td>\n",
       "      <td>2</td>\n",
       "      <td>1</td>\n",
       "      <td>0.013605</td>\n",
       "      <td>1.43</td>\n",
       "    </tr>\n",
       "    <tr>\n",
       "      <th>1</th>\n",
       "      <td>708749</td>\n",
       "      <td>916</td>\n",
       "      <td>103917</td>\n",
       "      <td>30-34</td>\n",
       "      <td>M</td>\n",
       "      <td>16</td>\n",
       "      <td>17861</td>\n",
       "      <td>2</td>\n",
       "      <td>1.82</td>\n",
       "      <td>2</td>\n",
       "      <td>0</td>\n",
       "      <td>0.011198</td>\n",
       "      <td>0.91</td>\n",
       "    </tr>\n",
       "  </tbody>\n",
       "</table>\n",
       "</div>"
      ],
      "text/plain": [
       "    ad_id  xyz_campaign_id  fb_campaign_id    age gender  interest  \\\n",
       "0  708746              916          103916  30-34      M        15   \n",
       "1  708749              916          103917  30-34      M        16   \n",
       "\n",
       "   Impressions  Clicks  Spent  Total_Conversion  Approved_Conversion  \\\n",
       "0         7350       1   1.43                 2                    1   \n",
       "1        17861       2   1.82                 2                    0   \n",
       "\n",
       "        CTR   CPC  \n",
       "0  0.013605  1.43  \n",
       "1  0.011198  0.91  "
      ]
     },
     "execution_count": 14,
     "metadata": {},
     "output_type": "execute_result"
    }
   ],
   "source": [
    "convers8=convers7\n",
    "convers8=convers8.dropna()\n",
    "convers8.head(2)"
   ]
  },
  {
   "cell_type": "code",
   "execution_count": 15,
   "id": "22035c13-ec86-4af2-99ab-f7c11e26b8f7",
   "metadata": {},
   "outputs": [],
   "source": [
    "convers8_m=convers8.query(\"gender == 'M'\")['CPC']"
   ]
  },
  {
   "cell_type": "code",
   "execution_count": 16,
   "id": "779b79a5-3ce6-48d1-b325-a00f2e45d835",
   "metadata": {},
   "outputs": [],
   "source": [
    "convers8_f=convers8.query(\"gender == 'F'\")['CPC']"
   ]
  },
  {
   "cell_type": "code",
   "execution_count": 17,
   "id": "f6f2004e-eaaf-4781-b4b0-2bcd3e0aa223",
   "metadata": {},
   "outputs": [
    {
     "name": "stderr",
     "output_type": "stream",
     "text": [
      "/opt/conda/lib/python3.9/site-packages/seaborn/distributions.py:2619: FutureWarning: `distplot` is a deprecated function and will be removed in a future version. Please adapt your code to use either `displot` (a figure-level function with similar flexibility) or `histplot` (an axes-level function for histograms).\n",
      "  warnings.warn(msg, FutureWarning)\n",
      "/opt/conda/lib/python3.9/site-packages/seaborn/distributions.py:2619: FutureWarning: `distplot` is a deprecated function and will be removed in a future version. Please adapt your code to use either `displot` (a figure-level function with similar flexibility) or `histplot` (an axes-level function for histograms).\n",
      "  warnings.warn(msg, FutureWarning)\n"
     ]
    },
    {
     "data": {
      "text/plain": [
       "<AxesSubplot:xlabel='CPC', ylabel='Density'>"
      ]
     },
     "execution_count": 17,
     "metadata": {},
     "output_type": "execute_result"
    },
    {
     "data": {
      "image/png": "[encoded data removed]",
      "text/plain": [
       "<Figure size 640x480 with 1 Axes>"
      ]
     },
     "metadata": {},
     "output_type": "display_data"
    }
   ],
   "source": [
    "sns.distplot(convers8_f)\n",
    "sns.distplot(convers8_m)"
   ]
  },
  {
   "cell_type": "markdown",
   "id": "c41a7fe3-b01d-461e-b074-5050d4800599",
   "metadata": {},
   "source": [
    "### Задание 9\n",
    "Конверсия (conversion rate) – отношение числа пользователей, совершивших целевое действие на определенном этапе, к общему числу тех, кто дошел до данного этапа.\n",
    "\n",
    "Посчитайте конверсию из клика в покупку. В качестве ответа укажите конверсию для объявления 1121814 в процентах, округлив значение до 2 знаков после точки. Например, если значение кликов равно 10, а покупок – 2, то CR на данном этапе составляет 2/10=0.2=20.\n",
    "\n",
    "Note: клики – Clicks, покупки – Approved_Conversion."
   ]
  },
  {
   "cell_type": "code",
   "execution_count": 19,
   "id": "28938e32-a7ce-4dc9-9ff9-7eebaaa5639a",
   "metadata": {},
   "outputs": [],
   "source": [
    "convers9=convers"
   ]
  },
  {
   "cell_type": "code",
   "execution_count": 24,
   "id": "e366db6f-44a1-4aff-8f01-feb3c92142e0",
   "metadata": {},
   "outputs": [],
   "source": [
    "convers9['conversion_rate']=convers9.Approved_Conversion / convers9.Clicks"
   ]
  },
  {
   "cell_type": "code",
   "execution_count": 25,
   "id": "af91bd3f-f862-4843-ad37-2c4253d264f9",
   "metadata": {},
   "outputs": [
    {
     "data": {
      "text/plain": [
       "860    0.03\n",
       "Name: conversion_rate, dtype: float64"
      ]
     },
     "execution_count": 25,
     "metadata": {},
     "output_type": "execute_result"
    }
   ],
   "source": [
    "convers9.query(\"ad_id == 1121814\").conversion_rate.round(2)"
   ]
  }
 ],
 "metadata": {
  "kernelspec": {
   "display_name": "Python 3 (ipykernel)",
   "language": "python",
   "name": "python3"
  },
  "language_info": {
   "codemirror_mode": {
    "name": "ipython",
    "version": 3
   },
   "file_extension": ".py",
   "mimetype": "text/x-python",
   "name": "python",
   "nbconvert_exporter": "python",
   "pygments_lexer": "ipython3",
   "version": "3.9.6"
  }
 },
 "nbformat": 4,
 "nbformat_minor": 5
}
