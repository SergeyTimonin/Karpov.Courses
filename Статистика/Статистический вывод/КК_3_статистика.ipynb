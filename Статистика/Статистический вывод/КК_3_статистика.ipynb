{
 "cells": [
  {
   "cell_type": "code",
   "execution_count": 36,
   "id": "3e070247-97c0-4106-89d9-e99bdf746dd7",
   "metadata": {},
   "outputs": [],
   "source": [
    "import pandas as pd\n",
    "import numpy as np\n",
    "import seaborn as sns"
   ]
  },
  {
   "cell_type": "markdown",
   "id": "c1d284ae-464d-4bb1-9215-db57022b5136",
   "metadata": {},
   "source": [
    "### Задание 4\n",
    "#Рассчитайте 99% доверительный интервал для следующего примера:"
   ]
  },
  {
   "cell_type": "code",
   "execution_count": 3,
   "id": "c18691f7-4d68-4d2e-8920-1e636e9ecb88",
   "metadata": {},
   "outputs": [],
   "source": [
    "mu=10\n",
    "sd=5\n",
    "n=100"
   ]
  },
  {
   "cell_type": "code",
   "execution_count": 8,
   "id": "9cfe0e03-d849-4a82-84df-0c7f9aa2bd81",
   "metadata": {},
   "outputs": [],
   "source": [
    "se= 5 / (100 **0.5)"
   ]
  },
  {
   "cell_type": "code",
   "execution_count": 19,
   "id": "b1c49070-1c71-40c7-88df-a9a3473dfe9a",
   "metadata": {},
   "outputs": [
    {
     "name": "stdout",
     "output_type": "stream",
     "text": [
      "8.712 : 11.288\n"
     ]
    }
   ],
   "source": [
    "print (10 - 2.576* se, ':', 10 + 2.576* se)"
   ]
  },
  {
   "cell_type": "markdown",
   "id": "cd9bc01b-fb18-4ebb-9fb4-f461ad40ebc1",
   "metadata": {},
   "source": [
    "### Задание 7\n",
    "Использование доверительных интервалов зачастую рассматривают как альтернативный способ проверки гипотез.\n",
    "В нашем случае, если значение 20 (предполагаемое среднее значение в генеральной совокупности) не будет принадлежать 95% доверительному интервалу, рассчитанному по выборочным данным, то у нас будет достаточно оснований отклонить нулевую гипотезу.\n",
    "\n",
    "Проверьте согласуются ли результаты двух этих подходов: рассчитайте 95% доверительный интервал для среднего значения, на примере с тестированием нового препарата.  Параметры: \n",
    "n=64,sd=4, mu=18.5"
   ]
  },
  {
   "cell_type": "code",
   "execution_count": 21,
   "id": "de5bd015-54a0-4186-b700-d0ba28d858e8",
   "metadata": {},
   "outputs": [],
   "source": [
    "se_7= 4 / (64 **0.5)"
   ]
  },
  {
   "cell_type": "code",
   "execution_count": 22,
   "id": "053b6ed2-d8d4-451b-9882-005eac328b17",
   "metadata": {},
   "outputs": [
    {
     "name": "stdout",
     "output_type": "stream",
     "text": [
      "17.52 : 19.48\n"
     ]
    }
   ],
   "source": [
    "print (18.5 - 1.96* se_7, ':', 18.5 + 1.96* se_7)"
   ]
  },
  {
   "cell_type": "markdown",
   "id": "6ee8a6de-3106-4c47-8a6c-9c856cbab655",
   "metadata": {},
   "source": [
    "### Задание 10\n",
    "В среднем слушатели курса по введению в статистику набирают 115 баллов, однако, в 2015 году средний балл случайно выбранных 144 участников составил 118 со стандартным отклонением равным 9. Рассчитайте p-уровень значимости для проверки нулевой гипотезы о том, что среднее значение баллов в 2015 году равняется 115."
   ]
  },
  {
   "cell_type": "code",
   "execution_count": null,
   "id": "2585c97d-74c0-4427-a2ae-496ef0bf2e2b",
   "metadata": {},
   "outputs": [],
   "source": [
    "mu=118\n",
    "n=144\n",
    "sd=9"
   ]
  },
  {
   "cell_type": "code",
   "execution_count": 24,
   "id": "15998cd0-ce79-48e9-8152-7048a2d8d577",
   "metadata": {},
   "outputs": [],
   "source": [
    "se_10= 9 / (144 **0.5)"
   ]
  },
  {
   "cell_type": "code",
   "execution_count": 25,
   "id": "e97bf104-fad9-4aaa-8465-0a519563ef0b",
   "metadata": {},
   "outputs": [
    {
     "name": "stdout",
     "output_type": "stream",
     "text": [
      "116.53 : 119.47\n"
     ]
    }
   ],
   "source": [
    "print (118 - 1.96* se_10, ':', 118 + 1.96* se_10)"
   ]
  },
  {
   "cell_type": "markdown",
   "id": "a7abe12b-d8ab-4468-878b-48ee4d361e3d",
   "metadata": {},
   "source": [
    "_______________________"
   ]
  },
  {
   "cell_type": "markdown",
   "id": "e0cea2b7-3c3c-4c3f-87c6-ba561b1cd558",
   "metadata": {
    "tags": []
   },
   "source": [
    "# ПРОЕКТ\n",
    "Представьте, что вы работаете аналитиком в компании, которая занимается арендой велосипедов. Коллега из офиса в Лондоне прислал вам данные за два года: с 4 января 2015 по 3 января 2017. Вам предстоит изучить динамику числа аренд, наличие связи с погодными условиями и выходными, а также объяснить несколько аномалий на графике.\n",
    "\n",
    "### Задания\n",
    "\n",
    "1. Загрузите данные, проверьте число наблюдений и столбцов, наличие пропусков. Убедитесь, что типы данных были прочитаны правильно. При необходимости – приведите переменные к нужным типам.\n",
    "2. Постройте график по числу поездок по дате и времени.\n",
    "3. Преобразуйте данные и посчитайте число поездок по дням. Визуализируйте результат.\n",
    "4. Используйте агрегированные данные по дням и посчитайте скользящее среднее с окном 3. В качестве ответа укажите полученное число аренд за 2015-07-09, округлив значение до целого.\n",
    "5. Посчитайте разницу между наблюдаемыми и значениями, подсчитанными с помощью скользящего среднего. Далее – найдите стандартное отклонение.\n",
    "6. Определите границы 99% доверительного интервала, добавьте данную информацию в датафрейм.\n",
    "7. Изучите аномально высокие значения и укажите день, когда число аренд было наибольшим. Найдите причину данной аномалии.\n",
    "8. Изучите аномально низкие значения, найдите день с наименьшим числом аренд. Найдите причину данной аномалии.\n",
    "\n",
    "### Описание данных\n",
    "- timestamp – дата и время (точность до часа)\n",
    "- cnt – количество аренд велосипедов за этот час\n",
    "- t1 – температура, в С\n",
    "- t2 – температура \"ощущается как\", в С \n",
    "- hum – влажность (%)\n",
    "- wind_speed – скорость ветра, км/ч\n",
    "- weather_code – погодные условия:\n",
    "\n",
    "1 – ясно (SKC)\n",
    "\n",
    "2 – преимущественно ясно / встречаются отдельные облака (SCT)\n",
    "\n",
    "3 – облачно / значительные облака (BKN)\n",
    "\n",
    "4 – пасмурно (OVC)\n",
    "\n",
    "7 – небольшой дождь Rain/ light Rain shower/ Light rain \n",
    "\n",
    "10 – дождь с грозой\n",
    "\n",
    "26 – снегопад \n",
    "\n",
    "94 – ледяной туман (да, такое бывает!)\n",
    "\n",
    "isholiday – является ли день праздником (1 – праздник, 0 – нет)\n",
    "\n",
    "isweekend –  является ли день выходным (1 – выходной, 0 – нет)\n",
    "\n",
    "season – метеорологический сезон (0 – весна, 1 – лето, 2 – осень, 3 – зима)\n"
   ]
  },
  {
   "cell_type": "code",
   "execution_count": 41,
   "id": "49962630-0cbb-489b-b62f-c4c34a7a6eaf",
   "metadata": {},
   "outputs": [],
   "source": [
    "london =pd.read_csv('london.csv', sep = ',')"
   ]
  },
  {
   "cell_type": "code",
   "execution_count": 48,
   "id": "397eb69b-8060-48c8-b0bf-52a1999183c5",
   "metadata": {},
   "outputs": [
    {
     "data": {
      "text/html": [
       "<div>\n",
       "<style scoped>\n",
       "    .dataframe tbody tr th:only-of-type {\n",
       "        vertical-align: middle;\n",
       "    }\n",
       "\n",
       "    .dataframe tbody tr th {\n",
       "        vertical-align: top;\n",
       "    }\n",
       "\n",
       "    .dataframe thead th {\n",
       "        text-align: right;\n",
       "    }\n",
       "</style>\n",
       "<table border=\"1\" class=\"dataframe\">\n",
       "  <thead>\n",
       "    <tr style=\"text-align: right;\">\n",
       "      <th></th>\n",
       "      <th>timestamp</th>\n",
       "      <th>cnt</th>\n",
       "      <th>t1</th>\n",
       "      <th>t2</th>\n",
       "      <th>hum</th>\n",
       "      <th>wind_speed</th>\n",
       "      <th>weather_code</th>\n",
       "      <th>is_holiday</th>\n",
       "      <th>is_weekend</th>\n",
       "      <th>season</th>\n",
       "    </tr>\n",
       "  </thead>\n",
       "  <tbody>\n",
       "    <tr>\n",
       "      <th>0</th>\n",
       "      <td>2015-01-04 00:00:00</td>\n",
       "      <td>182</td>\n",
       "      <td>3.0</td>\n",
       "      <td>2.0</td>\n",
       "      <td>93.0</td>\n",
       "      <td>6.0</td>\n",
       "      <td>3.0</td>\n",
       "      <td>0.0</td>\n",
       "      <td>1.0</td>\n",
       "      <td>3.0</td>\n",
       "    </tr>\n",
       "    <tr>\n",
       "      <th>1</th>\n",
       "      <td>2015-01-04 01:00:00</td>\n",
       "      <td>138</td>\n",
       "      <td>3.0</td>\n",
       "      <td>2.5</td>\n",
       "      <td>93.0</td>\n",
       "      <td>5.0</td>\n",
       "      <td>1.0</td>\n",
       "      <td>0.0</td>\n",
       "      <td>1.0</td>\n",
       "      <td>3.0</td>\n",
       "    </tr>\n",
       "  </tbody>\n",
       "</table>\n",
       "</div>"
      ],
      "text/plain": [
       "            timestamp  cnt   t1   t2   hum  wind_speed  weather_code  \\\n",
       "0 2015-01-04 00:00:00  182  3.0  2.0  93.0         6.0           3.0   \n",
       "1 2015-01-04 01:00:00  138  3.0  2.5  93.0         5.0           1.0   \n",
       "\n",
       "   is_holiday  is_weekend  season  \n",
       "0         0.0         1.0     3.0  \n",
       "1         0.0         1.0     3.0  "
      ]
     },
     "execution_count": 48,
     "metadata": {},
     "output_type": "execute_result"
    }
   ],
   "source": [
    "london['timestamp']=pd.to_datetime(london['timestamp'])\n",
    "london.head(2)"
   ]
  },
  {
   "cell_type": "markdown",
   "id": "dbad964a-1d67-49f9-81c3-272da60b4ce3",
   "metadata": {},
   "source": [
    "### Задача 2\n",
    "Для начала попробуем посмотреть на число поездок по датам и времени. Постройте график, где:\n",
    "\n",
    "по оси x – дата (timestamp)\n",
    "по оси y – число поездок (cnt)"
   ]
  },
  {
   "cell_type": "code",
   "execution_count": 49,
   "id": "9bf2b4b4-54a7-4586-b33d-5bfc1f146ea0",
   "metadata": {},
   "outputs": [
    {
     "data": {
      "text/plain": [
       "<AxesSubplot:xlabel='timestamp', ylabel='cnt'>"
      ]
     },
     "execution_count": 49,
     "metadata": {},
     "output_type": "execute_result"
    },
    {
     "data": {
      "image/png": "[encoded data removed]",
      "text/plain": [
       "<Figure size 432x288 with 1 Axes>"
      ]
     },
     "metadata": {
      "needs_background": "light"
     },
     "output_type": "display_data"
    }
   ],
   "source": [
    "sns.lineplot(x='timestamp', y='cnt', data=london)"
   ]
  },
  {
   "cell_type": "markdown",
   "id": "525a840d-7998-4012-91d2-11b18198001c",
   "metadata": {},
   "source": [
    "### Задача 3\n",
    "Отлично! Предположим, что данные действительно нужно немного преобразовать. В этом нам поможет resample, с которым вы могли столкнуться в дополнительных темах pandas. Этот метод позволяет преобразовать данные и применить к какому-либо столбцу другой метод (напр. sum). Так можно рассчитать показатели, например, за весь день или месяц, имея данные с точностью до минут.\n",
    "Агрегируйте число поездок по дням и визуализируйте результат. Что вы можете сказать о полученном графике?"
   ]
  },
  {
   "cell_type": "code",
   "execution_count": 62,
   "id": "b53cc0f7-2c24-4298-8260-49f83913fccc",
   "metadata": {},
   "outputs": [
    {
     "data": {
      "text/plain": [
       "<AxesSubplot:xlabel='timestamp'>"
      ]
     },
     "execution_count": 62,
     "metadata": {},
     "output_type": "execute_result"
    },
    {
     "data": {
      "image/png": "[encoded data removed]",
      "text/plain": [
       "<Figure size 432x288 with 1 Axes>"
      ]
     },
     "metadata": {
      "needs_background": "light"
     },
     "output_type": "display_data"
    }
   ],
   "source": [
    "london3=london\n",
    "london3.set_index('timestamp').sort_values('timestamp').resample(rule='D').cnt.sum().plot()"
   ]
  },
  {
   "cell_type": "markdown",
   "id": "03469925-b796-45f3-8d1f-8b37db1cde1e",
   "metadata": {},
   "source": [
    "### Задача 4\n",
    "Итак, вы обнаружили на графике некоторые скачки. Давайте проверим, что же могло произойти в те дни - и насколько эти изменения для нас неожиданны 🤔. Для этого мы попробуем построить доверительный интервал вокруг данных - всё, что выпадает за его пределы, будет считаться аномалией, и на отдельные из них мы потом и посмотрим.\n",
    "\n",
    "Однако не всё так просто. Мы сейчас работаем с временным рядом - последовательностью значений, меняющейся во времени. Мы не можем просто так посчитать доверительный интервал для всего: так мы можем упустить важные характеристики данных! Например, сезонные колебания. \n",
    "\n",
    "Чтобы учесть этот момент, мы построим доверительный интервал, используя скользящее среднее. Для этого разделим дальнейшие действия на несколько этапов:\n",
    "\n",
    "-сначала посчитаем скользящее среднее, чтобы сгладить ряд\n",
    "-далее – разницу между наблюдаемыми и сглаженными значениями\n",
    "-определим верхние и нижние границы 99% доверительного интервала \n",
    "-найдем причины аномалий!\n",
    "\n",
    "На данном шаге возьмите агрегированные данные по дням с предыдущего шага и посчитайте скользящее среднее с окном 3. В качестве ответа укажите полученное число аренд за 2015-07-09, округлив значение до целого."
   ]
  },
  {
   "cell_type": "code",
   "execution_count": 63,
   "id": "47896ebb-c245-4bac-9450-de39a3894085",
   "metadata": {},
   "outputs": [],
   "source": [
    "london4=london3.set_index('timestamp').sort_values('timestamp').resample(rule='D').cnt.sum()"
   ]
  },
  {
   "cell_type": "code",
   "execution_count": 67,
   "id": "9c969236-a9b2-4eb9-b908-0c6e980d4198",
   "metadata": {},
   "outputs": [],
   "source": [
    "london_4_avg=london4.rolling(window=3).mean().reset_index()"
   ]
  },
  {
   "cell_type": "code",
   "execution_count": 70,
   "id": "2f785e65-36ce-4dbc-bba9-1348e5a8d4d4",
   "metadata": {},
   "outputs": [
    {
     "data": {
      "text/html": [
       "<div>\n",
       "<style scoped>\n",
       "    .dataframe tbody tr th:only-of-type {\n",
       "        vertical-align: middle;\n",
       "    }\n",
       "\n",
       "    .dataframe tbody tr th {\n",
       "        vertical-align: top;\n",
       "    }\n",
       "\n",
       "    .dataframe thead th {\n",
       "        text-align: right;\n",
       "    }\n",
       "</style>\n",
       "<table border=\"1\" class=\"dataframe\">\n",
       "  <thead>\n",
       "    <tr style=\"text-align: right;\">\n",
       "      <th></th>\n",
       "      <th>timestamp</th>\n",
       "      <th>cnt</th>\n",
       "    </tr>\n",
       "  </thead>\n",
       "  <tbody>\n",
       "    <tr>\n",
       "      <th>186</th>\n",
       "      <td>2015-07-09</td>\n",
       "      <td>50705.0</td>\n",
       "    </tr>\n",
       "  </tbody>\n",
       "</table>\n",
       "</div>"
      ],
      "text/plain": [
       "     timestamp      cnt\n",
       "186 2015-07-09  50705.0"
      ]
     },
     "execution_count": 70,
     "metadata": {},
     "output_type": "execute_result"
    }
   ],
   "source": [
    "london_4_avg.query(\"timestamp == '2015-07-09'\")"
   ]
  },
  {
   "cell_type": "markdown",
   "id": "bbc9ef20-07f4-4631-97fb-74b97ac4b5de",
   "metadata": {},
   "source": [
    "### Задача 5\n",
    "Теперь посчитайте разницу между наблюдаемыми и подсчитанными значениями. Далее – примените функцию для подсчета стандартного отклонения. Например:\n",
    "\n",
    "c = a - b\n",
    "\n",
    "std = np.std(c)\n",
    "\n",
    "В качестве ответа введите полученное стандартное отклонение, округленное до 2 знаков после точки."
   ]
  },
  {
   "cell_type": "code",
   "execution_count": 77,
   "id": "6586f3cd-2f70-4ef9-b50d-983c0cbe73ec",
   "metadata": {},
   "outputs": [],
   "source": [
    "london4=london4.reset_index()"
   ]
  },
  {
   "cell_type": "code",
   "execution_count": 79,
   "id": "89462891-9cb8-4d8f-82e0-fb2e5d9b6605",
   "metadata": {},
   "outputs": [],
   "source": [
    "london5 = london4.merge(london_4_avg, how = 'left', on = 'timestamp')"
   ]
  },
  {
   "cell_type": "code",
   "execution_count": 81,
   "id": "a79f58e1-9413-471d-8af3-5592029314ac",
   "metadata": {},
   "outputs": [],
   "source": [
    "london5['diff']=london5.cnt_x - london5.cnt_y"
   ]
  },
  {
   "cell_type": "code",
   "execution_count": 97,
   "id": "f75db1a0-2b54-4410-877f-3da36c5e5b93",
   "metadata": {},
   "outputs": [
    {
     "data": {
      "text/plain": [
       "4558.58664111794"
      ]
     },
     "execution_count": 97,
     "metadata": {},
     "output_type": "execute_result"
    }
   ],
   "source": [
    "std=np.std(london5['diff'])\n",
    "std"
   ]
  },
  {
   "cell_type": "markdown",
   "id": "eaf0c440-8f56-47c8-bf74-bd66fad0bd16",
   "metadata": {},
   "source": [
    "### Задача 6\n",
    "Теперь определим границы интервалов. Для этого нужно взять данные, полученные при расчете скользящего среднего, и создать следующие объекты:\n",
    "\n",
    "- upper_bound – верхняя граница; к скользящим средним прибавляем 2.576∗std\n",
    "- lower_bound – нижняя граница; вычитаем 2.576∗std\n",
    "\n",
    "Полученные значения запишите в новые столбцы датафрейма с агрегированными данными.\n",
    "\n",
    "Чему равно значение верхней границы для последнего наблюдения? Ответ укажите с точностью до 2 знаков после точки.\n",
    "\n",
    "Note: в качестве std нужно брать стандартное отклонение без округления.\n",
    "\n",
    "Note 2: вам может понадобиться убрать даты из индекса - иногда из-за этого колонки могут не присваиваться в датафрейм. Вам пригодится .reset_index()."
   ]
  },
  {
   "cell_type": "code",
   "execution_count": 91,
   "id": "24fb811e-a9b2-4a63-aaea-b60a7be7659a",
   "metadata": {},
   "outputs": [
    {
     "data": {
      "text/html": [
       "<div>\n",
       "<style scoped>\n",
       "    .dataframe tbody tr th:only-of-type {\n",
       "        vertical-align: middle;\n",
       "    }\n",
       "\n",
       "    .dataframe tbody tr th {\n",
       "        vertical-align: top;\n",
       "    }\n",
       "\n",
       "    .dataframe thead th {\n",
       "        text-align: right;\n",
       "    }\n",
       "</style>\n",
       "<table border=\"1\" class=\"dataframe\">\n",
       "  <thead>\n",
       "    <tr style=\"text-align: right;\">\n",
       "      <th></th>\n",
       "      <th>index</th>\n",
       "      <th>timestamp</th>\n",
       "      <th>cnt_x</th>\n",
       "      <th>roll_avg</th>\n",
       "      <th>diff</th>\n",
       "    </tr>\n",
       "  </thead>\n",
       "  <tbody>\n",
       "    <tr>\n",
       "      <th>0</th>\n",
       "      <td>0</td>\n",
       "      <td>2015-01-04</td>\n",
       "      <td>9234</td>\n",
       "      <td>NaN</td>\n",
       "      <td>NaN</td>\n",
       "    </tr>\n",
       "  </tbody>\n",
       "</table>\n",
       "</div>"
      ],
      "text/plain": [
       "   index  timestamp  cnt_x  roll_avg  diff\n",
       "0      0 2015-01-04   9234       NaN   NaN"
      ]
     },
     "execution_count": 91,
     "metadata": {},
     "output_type": "execute_result"
    }
   ],
   "source": [
    "london6=london5.rename(columns={'cnt_y':'roll_avg'})\n",
    "london6.head(1)"
   ]
  },
  {
   "cell_type": "code",
   "execution_count": 135,
   "id": "d56dd896-b3b4-4cf5-b4f3-38f1b5a99a10",
   "metadata": {},
   "outputs": [],
   "source": [
    "london6['upper_bound']= london6.roll_avg +2.576*std  #верхняя граница"
   ]
  },
  {
   "cell_type": "code",
   "execution_count": 136,
   "id": "2dd09258-19d7-4012-8324-752b1a1188f6",
   "metadata": {},
   "outputs": [],
   "source": [
    "london6['lower_bound ']= london6.roll_avg -2.576*std  #нижняя граница"
   ]
  },
  {
   "cell_type": "code",
   "execution_count": 96,
   "id": "ba8fc509-fa61-441e-bb71-44795e83d96c",
   "metadata": {},
   "outputs": [
    {
     "data": {
      "text/html": [
       "<div>\n",
       "<style scoped>\n",
       "    .dataframe tbody tr th:only-of-type {\n",
       "        vertical-align: middle;\n",
       "    }\n",
       "\n",
       "    .dataframe tbody tr th {\n",
       "        vertical-align: top;\n",
       "    }\n",
       "\n",
       "    .dataframe thead th {\n",
       "        text-align: right;\n",
       "    }\n",
       "</style>\n",
       "<table border=\"1\" class=\"dataframe\">\n",
       "  <thead>\n",
       "    <tr style=\"text-align: right;\">\n",
       "      <th></th>\n",
       "      <th>index</th>\n",
       "      <th>timestamp</th>\n",
       "      <th>cnt_x</th>\n",
       "      <th>roll_avg</th>\n",
       "      <th>diff</th>\n",
       "      <th>upper_bound</th>\n",
       "      <th>lower_bound</th>\n",
       "    </tr>\n",
       "  </thead>\n",
       "  <tbody>\n",
       "    <tr>\n",
       "      <th>0</th>\n",
       "      <td>0</td>\n",
       "      <td>2015-01-04</td>\n",
       "      <td>9234</td>\n",
       "      <td>NaN</td>\n",
       "      <td>NaN</td>\n",
       "      <td>NaN</td>\n",
       "      <td>NaN</td>\n",
       "    </tr>\n",
       "    <tr>\n",
       "      <th>1</th>\n",
       "      <td>1</td>\n",
       "      <td>2015-01-05</td>\n",
       "      <td>20372</td>\n",
       "      <td>NaN</td>\n",
       "      <td>NaN</td>\n",
       "      <td>NaN</td>\n",
       "      <td>NaN</td>\n",
       "    </tr>\n",
       "    <tr>\n",
       "      <th>2</th>\n",
       "      <td>2</td>\n",
       "      <td>2015-01-06</td>\n",
       "      <td>20613</td>\n",
       "      <td>16739.666667</td>\n",
       "      <td>3873.333333</td>\n",
       "      <td>28482.594507</td>\n",
       "      <td>4996.738827</td>\n",
       "    </tr>\n",
       "    <tr>\n",
       "      <th>3</th>\n",
       "      <td>3</td>\n",
       "      <td>2015-01-07</td>\n",
       "      <td>21064</td>\n",
       "      <td>20683.000000</td>\n",
       "      <td>381.000000</td>\n",
       "      <td>32425.927840</td>\n",
       "      <td>8940.072160</td>\n",
       "    </tr>\n",
       "    <tr>\n",
       "      <th>4</th>\n",
       "      <td>4</td>\n",
       "      <td>2015-01-08</td>\n",
       "      <td>15601</td>\n",
       "      <td>19092.666667</td>\n",
       "      <td>-3491.666667</td>\n",
       "      <td>30835.594507</td>\n",
       "      <td>7349.738827</td>\n",
       "    </tr>\n",
       "    <tr>\n",
       "      <th>...</th>\n",
       "      <td>...</td>\n",
       "      <td>...</td>\n",
       "      <td>...</td>\n",
       "      <td>...</td>\n",
       "      <td>...</td>\n",
       "      <td>...</td>\n",
       "      <td>...</td>\n",
       "    </tr>\n",
       "    <tr>\n",
       "      <th>726</th>\n",
       "      <td>726</td>\n",
       "      <td>2016-12-30</td>\n",
       "      <td>11566</td>\n",
       "      <td>12682.000000</td>\n",
       "      <td>-1116.000000</td>\n",
       "      <td>24424.927840</td>\n",
       "      <td>939.072160</td>\n",
       "    </tr>\n",
       "    <tr>\n",
       "      <th>727</th>\n",
       "      <td>727</td>\n",
       "      <td>2016-12-31</td>\n",
       "      <td>11424</td>\n",
       "      <td>12347.333333</td>\n",
       "      <td>-923.333333</td>\n",
       "      <td>24090.261173</td>\n",
       "      <td>604.405493</td>\n",
       "    </tr>\n",
       "    <tr>\n",
       "      <th>728</th>\n",
       "      <td>728</td>\n",
       "      <td>2017-01-01</td>\n",
       "      <td>6421</td>\n",
       "      <td>9803.666667</td>\n",
       "      <td>-3382.666667</td>\n",
       "      <td>21546.594507</td>\n",
       "      <td>-1939.261173</td>\n",
       "    </tr>\n",
       "    <tr>\n",
       "      <th>729</th>\n",
       "      <td>729</td>\n",
       "      <td>2017-01-02</td>\n",
       "      <td>11823</td>\n",
       "      <td>9889.333333</td>\n",
       "      <td>1933.666667</td>\n",
       "      <td>21632.261173</td>\n",
       "      <td>-1853.594507</td>\n",
       "    </tr>\n",
       "    <tr>\n",
       "      <th>730</th>\n",
       "      <td>730</td>\n",
       "      <td>2017-01-03</td>\n",
       "      <td>19436</td>\n",
       "      <td>12560.000000</td>\n",
       "      <td>6876.000000</td>\n",
       "      <td>24302.927840</td>\n",
       "      <td>817.072160</td>\n",
       "    </tr>\n",
       "  </tbody>\n",
       "</table>\n",
       "<p>731 rows × 7 columns</p>\n",
       "</div>"
      ],
      "text/plain": [
       "     index  timestamp  cnt_x      roll_avg         diff   upper_bound  \\\n",
       "0        0 2015-01-04   9234           NaN          NaN           NaN   \n",
       "1        1 2015-01-05  20372           NaN          NaN           NaN   \n",
       "2        2 2015-01-06  20613  16739.666667  3873.333333  28482.594507   \n",
       "3        3 2015-01-07  21064  20683.000000   381.000000  32425.927840   \n",
       "4        4 2015-01-08  15601  19092.666667 -3491.666667  30835.594507   \n",
       "..     ...        ...    ...           ...          ...           ...   \n",
       "726    726 2016-12-30  11566  12682.000000 -1116.000000  24424.927840   \n",
       "727    727 2016-12-31  11424  12347.333333  -923.333333  24090.261173   \n",
       "728    728 2017-01-01   6421   9803.666667 -3382.666667  21546.594507   \n",
       "729    729 2017-01-02  11823   9889.333333  1933.666667  21632.261173   \n",
       "730    730 2017-01-03  19436  12560.000000  6876.000000  24302.927840   \n",
       "\n",
       "     lower_bound   \n",
       "0             NaN  \n",
       "1             NaN  \n",
       "2     4996.738827  \n",
       "3     8940.072160  \n",
       "4     7349.738827  \n",
       "..            ...  \n",
       "726    939.072160  \n",
       "727    604.405493  \n",
       "728  -1939.261173  \n",
       "729  -1853.594507  \n",
       "730    817.072160  \n",
       "\n",
       "[731 rows x 7 columns]"
      ]
     },
     "execution_count": 96,
     "metadata": {},
     "output_type": "execute_result"
    }
   ],
   "source": [
    "london6"
   ]
  },
  {
   "cell_type": "markdown",
   "id": "d7c6a184-f129-4e81-8509-34b1e96843d1",
   "metadata": {},
   "source": [
    "### Задание 7\n",
    "И наконец – изучим аномально высокие значения! Сначала выведите наблюдения, для которых наблюдаемые значения оказались больше верхней границы 99% доверительного интервала.\n",
    "\n",
    "В какой день значение числа аренд оказалось наибольшим?"
   ]
  },
  {
   "cell_type": "code",
   "execution_count": 107,
   "id": "ff401663-68cf-4582-811c-5ce5ff99cbec",
   "metadata": {},
   "outputs": [],
   "source": [
    "london7 = london6"
   ]
  },
  {
   "cell_type": "code",
   "execution_count": 120,
   "id": "f29b9d88-3c39-4313-b8d7-df551393c903",
   "metadata": {},
   "outputs": [
    {
     "data": {
      "text/html": [
       "<div>\n",
       "<style scoped>\n",
       "    .dataframe tbody tr th:only-of-type {\n",
       "        vertical-align: middle;\n",
       "    }\n",
       "\n",
       "    .dataframe tbody tr th {\n",
       "        vertical-align: top;\n",
       "    }\n",
       "\n",
       "    .dataframe thead th {\n",
       "        text-align: right;\n",
       "    }\n",
       "</style>\n",
       "<table border=\"1\" class=\"dataframe\">\n",
       "  <thead>\n",
       "    <tr style=\"text-align: right;\">\n",
       "      <th></th>\n",
       "      <th>index</th>\n",
       "      <th>timestamp</th>\n",
       "      <th>cnt_x</th>\n",
       "      <th>roll_avg</th>\n",
       "      <th>diff</th>\n",
       "      <th>upper_bound</th>\n",
       "      <th>lower_bound</th>\n",
       "      <th>diff_vs_upper</th>\n",
       "    </tr>\n",
       "  </thead>\n",
       "  <tbody>\n",
       "    <tr>\n",
       "      <th>186</th>\n",
       "      <td>186</td>\n",
       "      <td>2015-07-09</td>\n",
       "      <td>72504</td>\n",
       "      <td>50705.000000</td>\n",
       "      <td>21799.000000</td>\n",
       "      <td>62447.927840</td>\n",
       "      <td>38962.072160</td>\n",
       "      <td>-10056.072160</td>\n",
       "    </tr>\n",
       "    <tr>\n",
       "      <th>721</th>\n",
       "      <td>721</td>\n",
       "      <td>2016-12-25</td>\n",
       "      <td>36653</td>\n",
       "      <td>19650.666667</td>\n",
       "      <td>17002.333333</td>\n",
       "      <td>31393.594507</td>\n",
       "      <td>7907.738827</td>\n",
       "      <td>-5259.405493</td>\n",
       "    </tr>\n",
       "    <tr>\n",
       "      <th>214</th>\n",
       "      <td>214</td>\n",
       "      <td>2015-08-06</td>\n",
       "      <td>63468</td>\n",
       "      <td>46627.333333</td>\n",
       "      <td>16840.666667</td>\n",
       "      <td>58370.261173</td>\n",
       "      <td>34884.405493</td>\n",
       "      <td>-5097.738827</td>\n",
       "    </tr>\n",
       "    <tr>\n",
       "      <th>609</th>\n",
       "      <td>609</td>\n",
       "      <td>2016-09-04</td>\n",
       "      <td>27512</td>\n",
       "      <td>14259.000000</td>\n",
       "      <td>13253.000000</td>\n",
       "      <td>26001.927840</td>\n",
       "      <td>2516.072160</td>\n",
       "      <td>-1510.072160</td>\n",
       "    </tr>\n",
       "  </tbody>\n",
       "</table>\n",
       "</div>"
      ],
      "text/plain": [
       "     index  timestamp  cnt_x      roll_avg          diff   upper_bound  \\\n",
       "186    186 2015-07-09  72504  50705.000000  21799.000000  62447.927840   \n",
       "721    721 2016-12-25  36653  19650.666667  17002.333333  31393.594507   \n",
       "214    214 2015-08-06  63468  46627.333333  16840.666667  58370.261173   \n",
       "609    609 2016-09-04  27512  14259.000000  13253.000000  26001.927840   \n",
       "\n",
       "     lower_bound   diff_vs_upper  \n",
       "186  38962.072160  -10056.072160  \n",
       "721   7907.738827   -5259.405493  \n",
       "214  34884.405493   -5097.738827  \n",
       "609   2516.072160   -1510.072160  "
      ]
     },
     "execution_count": 120,
     "metadata": {},
     "output_type": "execute_result"
    }
   ],
   "source": [
    "london7.query('cnt_x > upper_bound').sort_values('diff_vs_upper')"
   ]
  },
  {
   "cell_type": "code",
   "execution_count": 112,
   "id": "a5d02e29-3421-4630-ac2f-070fb0ab0833",
   "metadata": {},
   "outputs": [],
   "source": [
    "london_all = london"
   ]
  },
  {
   "cell_type": "code",
   "execution_count": 128,
   "id": "60ef6039-260a-4950-baac-7a514ffa2853",
   "metadata": {},
   "outputs": [
    {
     "data": {
      "text/html": [
       "<div>\n",
       "<style scoped>\n",
       "    .dataframe tbody tr th:only-of-type {\n",
       "        vertical-align: middle;\n",
       "    }\n",
       "\n",
       "    .dataframe tbody tr th {\n",
       "        vertical-align: top;\n",
       "    }\n",
       "\n",
       "    .dataframe thead th {\n",
       "        text-align: right;\n",
       "    }\n",
       "</style>\n",
       "<table border=\"1\" class=\"dataframe\">\n",
       "  <thead>\n",
       "    <tr style=\"text-align: right;\">\n",
       "      <th></th>\n",
       "      <th>timestamp</th>\n",
       "      <th>cnt</th>\n",
       "      <th>t1</th>\n",
       "      <th>t2</th>\n",
       "      <th>hum</th>\n",
       "      <th>wind_speed</th>\n",
       "      <th>weather_code</th>\n",
       "      <th>is_holiday</th>\n",
       "      <th>is_weekend</th>\n",
       "      <th>season</th>\n",
       "    </tr>\n",
       "  </thead>\n",
       "  <tbody>\n",
       "    <tr>\n",
       "      <th>4453</th>\n",
       "      <td>2015-07-09</td>\n",
       "      <td>400</td>\n",
       "      <td>16.0</td>\n",
       "      <td>16.0</td>\n",
       "      <td>55.0</td>\n",
       "      <td>14.0</td>\n",
       "      <td>1.0</td>\n",
       "      <td>0.0</td>\n",
       "      <td>0.0</td>\n",
       "      <td>1.0</td>\n",
       "    </tr>\n",
       "  </tbody>\n",
       "</table>\n",
       "</div>"
      ],
      "text/plain": [
       "      timestamp  cnt    t1    t2   hum  wind_speed  weather_code  is_holiday  \\\n",
       "4453 2015-07-09  400  16.0  16.0  55.0        14.0           1.0         0.0   \n",
       "\n",
       "      is_weekend  season  \n",
       "4453         0.0     1.0  "
      ]
     },
     "execution_count": 128,
     "metadata": {},
     "output_type": "execute_result"
    }
   ],
   "source": [
    "london_all.query(\"timestamp == '2015-07-09'\")"
   ]
  }
 ],
 "metadata": {
  "kernelspec": {
   "display_name": "Python 3 (ipykernel)",
   "language": "python",
   "name": "python3"
  },
  "language_info": {
   "codemirror_mode": {
    "name": "ipython",
    "version": 3
   },
   "file_extension": ".py",
   "mimetype": "text/x-python",
   "name": "python",
   "nbconvert_exporter": "python",
   "pygments_lexer": "ipython3",
   "version": "3.9.6"
  }
 },
 "nbformat": 4,
 "nbformat_minor": 5
}
